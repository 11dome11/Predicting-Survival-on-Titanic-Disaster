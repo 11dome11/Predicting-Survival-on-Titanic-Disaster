{
 "cells": [
  {
   "cell_type": "markdown",
   "metadata": {
    "execution": {
     "iopub.execute_input": "2022-01-23T23:01:37.564693Z",
     "iopub.status.busy": "2022-01-23T23:01:37.564321Z",
     "iopub.status.idle": "2022-01-23T23:01:39.091254Z",
     "shell.execute_reply": "2022-01-23T23:01:39.090433Z",
     "shell.execute_reply.started": "2022-01-23T23:01:37.564608Z"
    }
   },
   "source": [
    "# **Survivors on Titanic prediction**"
   ]
  },
  {
   "cell_type": "code",
   "execution_count": 1,
   "metadata": {
    "execution": {
     "iopub.execute_input": "2022-01-25T10:32:46.251894Z",
     "iopub.status.busy": "2022-01-25T10:32:46.251245Z",
     "iopub.status.idle": "2022-01-25T10:32:47.893968Z",
     "shell.execute_reply": "2022-01-25T10:32:47.891644Z",
     "shell.execute_reply.started": "2022-01-25T10:32:46.251837Z"
    }
   },
   "outputs": [],
   "source": [
    "import pandas as pd\n",
    "import numpy as np\n",
    "import matplotlib.pyplot as plt\n",
    "import seaborn as sns\n",
    "from scipy.stats import loguniform\n",
    "from sklearn.preprocessing import StandardScaler\n",
    "from sklearn.model_selection import train_test_split, RandomizedSearchCV, StratifiedKFold\n",
    "from sklearn.tree import DecisionTreeClassifier\n",
    "from sklearn.linear_model import LogisticRegression\n",
    "from sklearn import svm\n",
    "from sklearn.metrics import balanced_accuracy_score, confusion_matrix, classification_report, make_scorer\n",
    "from sklearn.ensemble import RandomForestClassifier, VotingClassifier,AdaBoostClassifier, GradientBoostingClassifier\n",
    "import warnings\n",
    "import os\n",
    "warnings.filterwarnings('ignore')\n",
    "%matplotlib inline"
   ]
  },
  {
   "cell_type": "code",
   "execution_count": 2,
   "metadata": {
    "execution": {
     "iopub.execute_input": "2022-01-25T10:32:50.357869Z",
     "iopub.status.busy": "2022-01-25T10:32:50.357494Z",
     "iopub.status.idle": "2022-01-25T10:32:50.396166Z",
     "shell.execute_reply": "2022-01-25T10:32:50.395127Z",
     "shell.execute_reply.started": "2022-01-25T10:32:50.357832Z"
    }
   },
   "outputs": [],
   "source": [
    "df= pd.read_csv(\"titanic.csv\")"
   ]
  },
  {
   "cell_type": "code",
   "execution_count": 3,
   "metadata": {
    "execution": {
     "iopub.execute_input": "2022-01-25T10:32:51.356004Z",
     "iopub.status.busy": "2022-01-25T10:32:51.355656Z",
     "iopub.status.idle": "2022-01-25T10:32:51.380358Z",
     "shell.execute_reply": "2022-01-25T10:32:51.379451Z",
     "shell.execute_reply.started": "2022-01-25T10:32:51.355973Z"
    }
   },
   "outputs": [
    {
     "data": {
      "text/html": [
       "<div>\n",
       "<style scoped>\n",
       "    .dataframe tbody tr th:only-of-type {\n",
       "        vertical-align: middle;\n",
       "    }\n",
       "\n",
       "    .dataframe tbody tr th {\n",
       "        vertical-align: top;\n",
       "    }\n",
       "\n",
       "    .dataframe thead th {\n",
       "        text-align: right;\n",
       "    }\n",
       "</style>\n",
       "<table border=\"1\" class=\"dataframe\">\n",
       "  <thead>\n",
       "    <tr style=\"text-align: right;\">\n",
       "      <th></th>\n",
       "      <th>PassengerId</th>\n",
       "      <th>Survived</th>\n",
       "      <th>Pclass</th>\n",
       "      <th>Name</th>\n",
       "      <th>Sex</th>\n",
       "      <th>Age</th>\n",
       "      <th>SibSp</th>\n",
       "      <th>Parch</th>\n",
       "      <th>Ticket</th>\n",
       "      <th>Fare</th>\n",
       "      <th>Cabin</th>\n",
       "      <th>Embarked</th>\n",
       "    </tr>\n",
       "  </thead>\n",
       "  <tbody>\n",
       "    <tr>\n",
       "      <th>0</th>\n",
       "      <td>1</td>\n",
       "      <td>0</td>\n",
       "      <td>3</td>\n",
       "      <td>Braund, Mr. Owen Harris</td>\n",
       "      <td>male</td>\n",
       "      <td>22.0</td>\n",
       "      <td>1</td>\n",
       "      <td>0</td>\n",
       "      <td>A/5 21171</td>\n",
       "      <td>7.2500</td>\n",
       "      <td>NaN</td>\n",
       "      <td>S</td>\n",
       "    </tr>\n",
       "    <tr>\n",
       "      <th>1</th>\n",
       "      <td>2</td>\n",
       "      <td>1</td>\n",
       "      <td>1</td>\n",
       "      <td>Cumings, Mrs. John Bradley (Florence Briggs Th...</td>\n",
       "      <td>female</td>\n",
       "      <td>38.0</td>\n",
       "      <td>1</td>\n",
       "      <td>0</td>\n",
       "      <td>PC 17599</td>\n",
       "      <td>71.2833</td>\n",
       "      <td>C85</td>\n",
       "      <td>C</td>\n",
       "    </tr>\n",
       "    <tr>\n",
       "      <th>2</th>\n",
       "      <td>3</td>\n",
       "      <td>1</td>\n",
       "      <td>3</td>\n",
       "      <td>Heikkinen, Miss. Laina</td>\n",
       "      <td>female</td>\n",
       "      <td>26.0</td>\n",
       "      <td>0</td>\n",
       "      <td>0</td>\n",
       "      <td>STON/O2. 3101282</td>\n",
       "      <td>7.9250</td>\n",
       "      <td>NaN</td>\n",
       "      <td>S</td>\n",
       "    </tr>\n",
       "    <tr>\n",
       "      <th>3</th>\n",
       "      <td>4</td>\n",
       "      <td>1</td>\n",
       "      <td>1</td>\n",
       "      <td>Futrelle, Mrs. Jacques Heath (Lily May Peel)</td>\n",
       "      <td>female</td>\n",
       "      <td>35.0</td>\n",
       "      <td>1</td>\n",
       "      <td>0</td>\n",
       "      <td>113803</td>\n",
       "      <td>53.1000</td>\n",
       "      <td>C123</td>\n",
       "      <td>S</td>\n",
       "    </tr>\n",
       "    <tr>\n",
       "      <th>4</th>\n",
       "      <td>5</td>\n",
       "      <td>0</td>\n",
       "      <td>3</td>\n",
       "      <td>Allen, Mr. William Henry</td>\n",
       "      <td>male</td>\n",
       "      <td>35.0</td>\n",
       "      <td>0</td>\n",
       "      <td>0</td>\n",
       "      <td>373450</td>\n",
       "      <td>8.0500</td>\n",
       "      <td>NaN</td>\n",
       "      <td>S</td>\n",
       "    </tr>\n",
       "  </tbody>\n",
       "</table>\n",
       "</div>"
      ],
      "text/plain": [
       "   PassengerId  Survived  Pclass  \\\n",
       "0            1         0       3   \n",
       "1            2         1       1   \n",
       "2            3         1       3   \n",
       "3            4         1       1   \n",
       "4            5         0       3   \n",
       "\n",
       "                                                Name     Sex   Age  SibSp  \\\n",
       "0                            Braund, Mr. Owen Harris    male  22.0      1   \n",
       "1  Cumings, Mrs. John Bradley (Florence Briggs Th...  female  38.0      1   \n",
       "2                             Heikkinen, Miss. Laina  female  26.0      0   \n",
       "3       Futrelle, Mrs. Jacques Heath (Lily May Peel)  female  35.0      1   \n",
       "4                           Allen, Mr. William Henry    male  35.0      0   \n",
       "\n",
       "   Parch            Ticket     Fare Cabin Embarked  \n",
       "0      0         A/5 21171   7.2500   NaN        S  \n",
       "1      0          PC 17599  71.2833   C85        C  \n",
       "2      0  STON/O2. 3101282   7.9250   NaN        S  \n",
       "3      0            113803  53.1000  C123        S  \n",
       "4      0            373450   8.0500   NaN        S  "
      ]
     },
     "execution_count": 3,
     "metadata": {},
     "output_type": "execute_result"
    }
   ],
   "source": [
    "df.head()"
   ]
  },
  {
   "cell_type": "markdown",
   "metadata": {},
   "source": [
    "## <font color=black> Variable Description </font>\n",
    "- PassengerId: <font color=black> passenger's **ID** </font> \n",
    "- Survived: <font color=black> **0** </font>= No, <font color=black> **1** </font>= Yes\n",
    "- PClass: Passenger Class=<font color=black> (1=**1st**. 2=**2nd**,3=**3rd**) </font>\n",
    "- Name: <font color=black> passenger's **name** </font> \n",
    "- Sex: <font color=black> passenger's **sex** </font> \n",
    "- Age: <font color=black> passenger's **age** </font> \n",
    "- SibSp: <font color=black> **number** of Siblings/Spouses Aboard </font> \n",
    "- Parch: <font color=black> **number** of Parents/Children Aboard </font>\n",
    "- Ticket: <font color=black> **Ticket number** </font> \n",
    "- Fare: <font color=black> **Passenger Fare** (British pound) </font> \n",
    "- Cabin: <font color=black> **Cabin ID** </font> \n",
    "- Embarked: <font color=black> **Port of Embarkation** </font> C=Cherbourg, Q=Queenstown, S=Southampton"
   ]
  },
  {
   "cell_type": "markdown",
   "metadata": {},
   "source": [
    "# **Data analysis and features engineering**"
   ]
  },
  {
   "cell_type": "code",
   "execution_count": 4,
   "metadata": {
    "execution": {
     "iopub.execute_input": "2022-01-25T10:32:53.908949Z",
     "iopub.status.busy": "2022-01-25T10:32:53.908616Z",
     "iopub.status.idle": "2022-01-25T10:32:53.915141Z",
     "shell.execute_reply": "2022-01-25T10:32:53.914555Z",
     "shell.execute_reply.started": "2022-01-25T10:32:53.908916Z"
    }
   },
   "outputs": [
    {
     "data": {
      "text/plain": [
       "(891, 12)"
      ]
     },
     "execution_count": 4,
     "metadata": {},
     "output_type": "execute_result"
    }
   ],
   "source": [
    "df.shape"
   ]
  },
  {
   "cell_type": "code",
   "execution_count": 5,
   "metadata": {
    "execution": {
     "iopub.execute_input": "2022-01-25T10:32:54.514528Z",
     "iopub.status.busy": "2022-01-25T10:32:54.514057Z",
     "iopub.status.idle": "2022-01-25T10:32:54.537064Z",
     "shell.execute_reply": "2022-01-25T10:32:54.536133Z",
     "shell.execute_reply.started": "2022-01-25T10:32:54.514478Z"
    }
   },
   "outputs": [
    {
     "name": "stdout",
     "output_type": "stream",
     "text": [
      "<class 'pandas.core.frame.DataFrame'>\n",
      "RangeIndex: 891 entries, 0 to 890\n",
      "Data columns (total 12 columns):\n",
      " #   Column       Non-Null Count  Dtype  \n",
      "---  ------       --------------  -----  \n",
      " 0   PassengerId  891 non-null    int64  \n",
      " 1   Survived     891 non-null    int64  \n",
      " 2   Pclass       891 non-null    int64  \n",
      " 3   Name         891 non-null    object \n",
      " 4   Sex          891 non-null    object \n",
      " 5   Age          714 non-null    float64\n",
      " 6   SibSp        891 non-null    int64  \n",
      " 7   Parch        891 non-null    int64  \n",
      " 8   Ticket       891 non-null    object \n",
      " 9   Fare         891 non-null    float64\n",
      " 10  Cabin        204 non-null    object \n",
      " 11  Embarked     889 non-null    object \n",
      "dtypes: float64(2), int64(5), object(5)\n",
      "memory usage: 83.7+ KB\n"
     ]
    }
   ],
   "source": [
    "df.info()"
   ]
  },
  {
   "cell_type": "code",
   "execution_count": 6,
   "metadata": {
    "execution": {
     "iopub.execute_input": "2022-01-25T10:32:55.143935Z",
     "iopub.status.busy": "2022-01-25T10:32:55.143035Z",
     "iopub.status.idle": "2022-01-25T10:32:55.179524Z",
     "shell.execute_reply": "2022-01-25T10:32:55.178626Z",
     "shell.execute_reply.started": "2022-01-25T10:32:55.143895Z"
    }
   },
   "outputs": [
    {
     "data": {
      "text/html": [
       "<div>\n",
       "<style scoped>\n",
       "    .dataframe tbody tr th:only-of-type {\n",
       "        vertical-align: middle;\n",
       "    }\n",
       "\n",
       "    .dataframe tbody tr th {\n",
       "        vertical-align: top;\n",
       "    }\n",
       "\n",
       "    .dataframe thead th {\n",
       "        text-align: right;\n",
       "    }\n",
       "</style>\n",
       "<table border=\"1\" class=\"dataframe\">\n",
       "  <thead>\n",
       "    <tr style=\"text-align: right;\">\n",
       "      <th></th>\n",
       "      <th>PassengerId</th>\n",
       "      <th>Survived</th>\n",
       "      <th>Pclass</th>\n",
       "      <th>Age</th>\n",
       "      <th>SibSp</th>\n",
       "      <th>Parch</th>\n",
       "      <th>Fare</th>\n",
       "    </tr>\n",
       "  </thead>\n",
       "  <tbody>\n",
       "    <tr>\n",
       "      <th>count</th>\n",
       "      <td>891.000000</td>\n",
       "      <td>891.000000</td>\n",
       "      <td>891.000000</td>\n",
       "      <td>714.000000</td>\n",
       "      <td>891.000000</td>\n",
       "      <td>891.000000</td>\n",
       "      <td>891.000000</td>\n",
       "    </tr>\n",
       "    <tr>\n",
       "      <th>mean</th>\n",
       "      <td>446.000000</td>\n",
       "      <td>0.383838</td>\n",
       "      <td>2.308642</td>\n",
       "      <td>29.699118</td>\n",
       "      <td>0.523008</td>\n",
       "      <td>0.381594</td>\n",
       "      <td>32.204208</td>\n",
       "    </tr>\n",
       "    <tr>\n",
       "      <th>std</th>\n",
       "      <td>257.353842</td>\n",
       "      <td>0.486592</td>\n",
       "      <td>0.836071</td>\n",
       "      <td>14.526497</td>\n",
       "      <td>1.102743</td>\n",
       "      <td>0.806057</td>\n",
       "      <td>49.693429</td>\n",
       "    </tr>\n",
       "    <tr>\n",
       "      <th>min</th>\n",
       "      <td>1.000000</td>\n",
       "      <td>0.000000</td>\n",
       "      <td>1.000000</td>\n",
       "      <td>0.420000</td>\n",
       "      <td>0.000000</td>\n",
       "      <td>0.000000</td>\n",
       "      <td>0.000000</td>\n",
       "    </tr>\n",
       "    <tr>\n",
       "      <th>25%</th>\n",
       "      <td>223.500000</td>\n",
       "      <td>0.000000</td>\n",
       "      <td>2.000000</td>\n",
       "      <td>20.125000</td>\n",
       "      <td>0.000000</td>\n",
       "      <td>0.000000</td>\n",
       "      <td>7.910400</td>\n",
       "    </tr>\n",
       "    <tr>\n",
       "      <th>50%</th>\n",
       "      <td>446.000000</td>\n",
       "      <td>0.000000</td>\n",
       "      <td>3.000000</td>\n",
       "      <td>28.000000</td>\n",
       "      <td>0.000000</td>\n",
       "      <td>0.000000</td>\n",
       "      <td>14.454200</td>\n",
       "    </tr>\n",
       "    <tr>\n",
       "      <th>75%</th>\n",
       "      <td>668.500000</td>\n",
       "      <td>1.000000</td>\n",
       "      <td>3.000000</td>\n",
       "      <td>38.000000</td>\n",
       "      <td>1.000000</td>\n",
       "      <td>0.000000</td>\n",
       "      <td>31.000000</td>\n",
       "    </tr>\n",
       "    <tr>\n",
       "      <th>max</th>\n",
       "      <td>891.000000</td>\n",
       "      <td>1.000000</td>\n",
       "      <td>3.000000</td>\n",
       "      <td>80.000000</td>\n",
       "      <td>8.000000</td>\n",
       "      <td>6.000000</td>\n",
       "      <td>512.329200</td>\n",
       "    </tr>\n",
       "  </tbody>\n",
       "</table>\n",
       "</div>"
      ],
      "text/plain": [
       "       PassengerId    Survived      Pclass         Age       SibSp  \\\n",
       "count   891.000000  891.000000  891.000000  714.000000  891.000000   \n",
       "mean    446.000000    0.383838    2.308642   29.699118    0.523008   \n",
       "std     257.353842    0.486592    0.836071   14.526497    1.102743   \n",
       "min       1.000000    0.000000    1.000000    0.420000    0.000000   \n",
       "25%     223.500000    0.000000    2.000000   20.125000    0.000000   \n",
       "50%     446.000000    0.000000    3.000000   28.000000    0.000000   \n",
       "75%     668.500000    1.000000    3.000000   38.000000    1.000000   \n",
       "max     891.000000    1.000000    3.000000   80.000000    8.000000   \n",
       "\n",
       "            Parch        Fare  \n",
       "count  891.000000  891.000000  \n",
       "mean     0.381594   32.204208  \n",
       "std      0.806057   49.693429  \n",
       "min      0.000000    0.000000  \n",
       "25%      0.000000    7.910400  \n",
       "50%      0.000000   14.454200  \n",
       "75%      0.000000   31.000000  \n",
       "max      6.000000  512.329200  "
      ]
     },
     "execution_count": 6,
     "metadata": {},
     "output_type": "execute_result"
    }
   ],
   "source": [
    "df.describe()"
   ]
  },
  {
   "cell_type": "code",
   "execution_count": 7,
   "metadata": {
    "execution": {
     "iopub.execute_input": "2022-01-25T10:32:55.777955Z",
     "iopub.status.busy": "2022-01-25T10:32:55.777639Z",
     "iopub.status.idle": "2022-01-25T10:32:55.961457Z",
     "shell.execute_reply": "2022-01-25T10:32:55.958188Z",
     "shell.execute_reply.started": "2022-01-25T10:32:55.777924Z"
    }
   },
   "outputs": [
    {
     "data": {
      "image/png": "[encoded data removed]",
      "text/plain": [
       "<Figure size 576x576 with 1 Axes>"
      ]
     },
     "metadata": {},
     "output_type": "display_data"
    }
   ],
   "source": [
    "#Survived and dead\n",
    "plt.figure(figsize=(8,8))\n",
    "plt.pie(df[\"Survived\"].value_counts(), colors=[\"red\", \"blue\"], labels=[\"Dead\",\"Survived\"], autopct='%.2f%%', explode=[0,0.02] )\n",
    "plt.title(\"Total of passenger\");"
   ]
  },
  {
   "cell_type": "code",
   "execution_count": 8,
   "metadata": {
    "execution": {
     "iopub.execute_input": "2022-01-25T10:32:56.456642Z",
     "iopub.status.busy": "2022-01-25T10:32:56.455767Z",
     "iopub.status.idle": "2022-01-25T10:32:57.063986Z",
     "shell.execute_reply": "2022-01-25T10:32:57.062945Z",
     "shell.execute_reply.started": "2022-01-25T10:32:56.456592Z"
    }
   },
   "outputs": [
    {
     "data": {
      "text/plain": [
       "<AxesSubplot:title={'center':'Fare boxplot'}, xlabel='Fare'>"
      ]
     },
     "execution_count": 8,
     "metadata": {},
     "output_type": "execute_result"
    },
    {
     "data": {
      "image/png": "[encoded data removed]",
      "text/plain": [
       "<Figure size 1584x720 with 4 Axes>"
      ]
     },
     "metadata": {
      "needs_background": "light"
     },
     "output_type": "display_data"
    }
   ],
   "source": [
    "#Outlier detection\n",
    "plt.figure(figsize=(22,10))\n",
    "\n",
    "plt.subplot(2,2,1)\n",
    "plt.title(\"Age boxplot\")\n",
    "sns.boxplot(x=df.Age, palette=\"Blues_d\")\n",
    "\n",
    "plt.subplot(2,2,2)\n",
    "plt.title(\"SibSp boxplot\")\n",
    "sns.boxplot(x=df.SibSp, palette=\"Blues_d\")\n",
    "\n",
    "plt.subplot(2,2,3)\n",
    "plt.title(\"Parch boxplot\")\n",
    "sns.boxplot(x=df.Parch, palette=\"Blues_d\")\n",
    "\n",
    "plt.subplot(2,2,4)\n",
    "plt.title(\"Fare boxplot\")\n",
    "sns.boxplot(x=df.Fare, palette=\"Blues_d\")\n",
    "\n"
   ]
  },
  {
   "cell_type": "code",
   "execution_count": 9,
   "metadata": {
    "execution": {
     "iopub.execute_input": "2022-01-25T10:32:57.364926Z",
     "iopub.status.busy": "2022-01-25T10:32:57.364368Z",
     "iopub.status.idle": "2022-01-25T10:32:57.372618Z",
     "shell.execute_reply": "2022-01-25T10:32:57.371885Z",
     "shell.execute_reply.started": "2022-01-25T10:32:57.364882Z"
    }
   },
   "outputs": [
    {
     "name": "stdout",
     "output_type": "stream",
     "text": [
      "(array([258, 679, 737], dtype=int64),)\n",
      "(array([159, 180, 201, 324, 792, 846, 863], dtype=int64),)\n"
     ]
    }
   ],
   "source": [
    "print(np.where(df['Fare']>500))\n",
    "print(np.where(df[\"SibSp\"]>=8))"
   ]
  },
  {
   "cell_type": "code",
   "execution_count": 10,
   "metadata": {
    "execution": {
     "iopub.execute_input": "2022-01-25T10:32:58.093766Z",
     "iopub.status.busy": "2022-01-25T10:32:58.093324Z",
     "iopub.status.idle": "2022-01-25T10:32:58.100091Z",
     "shell.execute_reply": "2022-01-25T10:32:58.099320Z",
     "shell.execute_reply.started": "2022-01-25T10:32:58.093726Z"
    }
   },
   "outputs": [],
   "source": [
    "df.drop(df.index[[258, 679, 737,159, 180, 201, 324, 792, 846, 863]], inplace=True)"
   ]
  },
  {
   "cell_type": "code",
   "execution_count": 11,
   "metadata": {
    "execution": {
     "iopub.execute_input": "2022-01-25T10:32:59.600195Z",
     "iopub.status.busy": "2022-01-25T10:32:59.599669Z",
     "iopub.status.idle": "2022-01-25T10:32:59.612493Z",
     "shell.execute_reply": "2022-01-25T10:32:59.611448Z",
     "shell.execute_reply.started": "2022-01-25T10:32:59.600163Z"
    }
   },
   "outputs": [
    {
     "data": {
      "text/plain": [
       "PassengerId      0\n",
       "Survived         0\n",
       "Pclass           0\n",
       "Name             0\n",
       "Sex              0\n",
       "Age            170\n",
       "SibSp            0\n",
       "Parch            0\n",
       "Ticket           0\n",
       "Fare             0\n",
       "Cabin          679\n",
       "Embarked         2\n",
       "dtype: int64"
      ]
     },
     "execution_count": 11,
     "metadata": {},
     "output_type": "execute_result"
    }
   ],
   "source": [
    "#Checking null and missing values\n",
    "df= df.fillna(np.nan)\n",
    "df.isnull().sum()"
   ]
  },
  {
   "cell_type": "code",
   "execution_count": 12,
   "metadata": {
    "execution": {
     "iopub.execute_input": "2022-01-25T10:33:00.457359Z",
     "iopub.status.busy": "2022-01-25T10:33:00.456840Z",
     "iopub.status.idle": "2022-01-25T10:33:00.829408Z",
     "shell.execute_reply": "2022-01-25T10:33:00.828441Z",
     "shell.execute_reply.started": "2022-01-25T10:33:00.457313Z"
    }
   },
   "outputs": [
    {
     "data": {
      "text/plain": [
       "<AxesSubplot:>"
      ]
     },
     "execution_count": 12,
     "metadata": {},
     "output_type": "execute_result"
    },
    {
     "data": {
      "image/png": "[encoded data removed]",
      "text/plain": [
       "<Figure size 432x288 with 2 Axes>"
      ]
     },
     "metadata": {
      "needs_background": "light"
     },
     "output_type": "display_data"
    }
   ],
   "source": [
    "#Correlation matrix between numerical values\n",
    "sns.heatmap(df[[\"Survived\",\"SibSp\",\"Parch\",\"Age\",\"Fare\"]].corr(), fmt= \".2f\", annot=True, cmap=\"Reds\")"
   ]
  },
  {
   "cell_type": "code",
   "execution_count": 13,
   "metadata": {
    "execution": {
     "iopub.execute_input": "2022-01-25T10:33:01.147247Z",
     "iopub.status.busy": "2022-01-25T10:33:01.146926Z",
     "iopub.status.idle": "2022-01-25T10:33:01.766979Z",
     "shell.execute_reply": "2022-01-25T10:33:01.765975Z",
     "shell.execute_reply.started": "2022-01-25T10:33:01.147214Z"
    }
   },
   "outputs": [
    {
     "data": {
      "text/plain": [
       "Text(6.799999999999997, 0.5, 'Survival probability')"
      ]
     },
     "execution_count": 13,
     "metadata": {},
     "output_type": "execute_result"
    },
    {
     "data": {
      "text/plain": [
       "<Figure size 1152x576 with 0 Axes>"
      ]
     },
     "metadata": {},
     "output_type": "display_data"
    },
    {
     "data": {
      "image/png": "[encoded data removed]",
      "text/plain": [
       "<Figure size 360x360 with 1 Axes>"
      ]
     },
     "metadata": {
      "needs_background": "light"
     },
     "output_type": "display_data"
    }
   ],
   "source": [
    "#SibSp\n",
    "plt.figure(figsize=(16,8))\n",
    "sns.factorplot(x=\"SibSp\",y=\"Survived\", data=df, kind=\"bar\")\n",
    "plt.ylabel(\"Survival probability\")"
   ]
  },
  {
   "cell_type": "code",
   "execution_count": 14,
   "metadata": {
    "execution": {
     "iopub.execute_input": "2022-01-25T10:33:01.769382Z",
     "iopub.status.busy": "2022-01-25T10:33:01.769040Z",
     "iopub.status.idle": "2022-01-25T10:33:02.205393Z",
     "shell.execute_reply": "2022-01-25T10:33:02.204426Z",
     "shell.execute_reply.started": "2022-01-25T10:33:01.769337Z"
    }
   },
   "outputs": [
    {
     "data": {
      "text/plain": [
       "Text(6.799999999999997, 0.5, 'Survival probability')"
      ]
     },
     "execution_count": 14,
     "metadata": {},
     "output_type": "execute_result"
    },
    {
     "data": {
      "text/plain": [
       "<Figure size 1152x576 with 0 Axes>"
      ]
     },
     "metadata": {},
     "output_type": "display_data"
    },
    {
     "data": {
      "image/png": "[encoded data removed]",
      "text/plain": [
       "<Figure size 360x360 with 1 Axes>"
      ]
     },
     "metadata": {
      "needs_background": "light"
     },
     "output_type": "display_data"
    }
   ],
   "source": [
    "#Parch\n",
    "plt.figure(figsize=(16,8))\n",
    "sns.factorplot(x=\"Parch\",y=\"Survived\", data=df, kind=\"bar\")\n",
    "plt.ylabel(\"Survival probability\")"
   ]
  },
  {
   "cell_type": "code",
   "execution_count": 15,
   "metadata": {
    "execution": {
     "iopub.execute_input": "2022-01-25T10:33:02.281030Z",
     "iopub.status.busy": "2022-01-25T10:33:02.280732Z",
     "iopub.status.idle": "2022-01-25T10:33:02.572302Z",
     "shell.execute_reply": "2022-01-25T10:33:02.571645Z",
     "shell.execute_reply.started": "2022-01-25T10:33:02.281000Z"
    }
   },
   "outputs": [
    {
     "data": {
      "image/png": "[encoded data removed]",
      "text/plain": [
       "<Figure size 432x216 with 1 Axes>"
      ]
     },
     "metadata": {
      "needs_background": "light"
     },
     "output_type": "display_data"
    }
   ],
   "source": [
    "#Age\n",
    "facet = sns.FacetGrid(df, hue=\"Survived\", aspect=2)\n",
    "facet.map(sns.kdeplot, \"Age\", shade=True)\n",
    "facet.set(xlim=(0, df[\"Age\"].max()))\n",
    "plt.legend(loc=\"upper right\", labels=[\"Dead\",\"Survived\"]);"
   ]
  },
  {
   "cell_type": "code",
   "execution_count": 16,
   "metadata": {
    "execution": {
     "iopub.execute_input": "2022-01-25T10:33:02.797827Z",
     "iopub.status.busy": "2022-01-25T10:33:02.797013Z",
     "iopub.status.idle": "2022-01-25T10:33:02.803099Z",
     "shell.execute_reply": "2022-01-25T10:33:02.802232Z",
     "shell.execute_reply.started": "2022-01-25T10:33:02.797742Z"
    }
   },
   "outputs": [],
   "source": [
    "df[\"Age\"]=df[\"Age\"].fillna(df[\"Age\"].median())"
   ]
  },
  {
   "cell_type": "code",
   "execution_count": 17,
   "metadata": {
    "execution": {
     "iopub.execute_input": "2022-01-25T10:33:03.308772Z",
     "iopub.status.busy": "2022-01-25T10:33:03.308218Z",
     "iopub.status.idle": "2022-01-25T10:33:03.674887Z",
     "shell.execute_reply": "2022-01-25T10:33:03.674237Z",
     "shell.execute_reply.started": "2022-01-25T10:33:03.308719Z"
    }
   },
   "outputs": [
    {
     "data": {
      "text/plain": [
       "<AxesSubplot:xlabel='Fare', ylabel='Density'>"
      ]
     },
     "execution_count": 17,
     "metadata": {},
     "output_type": "execute_result"
    },
    {
     "data": {
      "image/png": "[encoded data removed]",
      "text/plain": [
       "<Figure size 1152x576 with 1 Axes>"
      ]
     },
     "metadata": {
      "needs_background": "light"
     },
     "output_type": "display_data"
    }
   ],
   "source": [
    "#Fare\n",
    "df[\"Fare\"]=df[\"Fare\"].fillna(df[\"Fare\"].median())\n",
    "plt.figure(figsize=(16,8))\n",
    "sns.distplot(df[\"Fare\"])"
   ]
  },
  {
   "cell_type": "code",
   "execution_count": 18,
   "metadata": {
    "execution": {
     "iopub.execute_input": "2022-01-25T10:33:03.841187Z",
     "iopub.status.busy": "2022-01-25T10:33:03.840667Z",
     "iopub.status.idle": "2022-01-25T10:33:04.181255Z",
     "shell.execute_reply": "2022-01-25T10:33:04.180517Z",
     "shell.execute_reply.started": "2022-01-25T10:33:03.841136Z"
    }
   },
   "outputs": [
    {
     "data": {
      "text/plain": [
       "<AxesSubplot:xlabel='Fare', ylabel='Density'>"
      ]
     },
     "execution_count": 18,
     "metadata": {},
     "output_type": "execute_result"
    },
    {
     "data": {
      "image/png": "[encoded data removed]",
      "text/plain": [
       "<Figure size 1152x576 with 1 Axes>"
      ]
     },
     "metadata": {
      "needs_background": "light"
     },
     "output_type": "display_data"
    }
   ],
   "source": [
    "#Apply log to Fare distribution\n",
    "df[\"Fare\"]= df[\"Fare\"].map(lambda i : np.log(i) if i>0 else 0)\n",
    "plt.figure(figsize=(16,8))\n",
    "sns.distplot(df[\"Fare\"])"
   ]
  },
  {
   "cell_type": "code",
   "execution_count": 19,
   "metadata": {
    "execution": {
     "iopub.execute_input": "2022-01-25T10:33:04.428951Z",
     "iopub.status.busy": "2022-01-25T10:33:04.428408Z",
     "iopub.status.idle": "2022-01-25T10:33:04.785443Z",
     "shell.execute_reply": "2022-01-25T10:33:04.784431Z",
     "shell.execute_reply.started": "2022-01-25T10:33:04.428913Z"
    }
   },
   "outputs": [
    {
     "data": {
      "text/plain": [
       "Text(6.799999999999997, 0.5, 'Survival probability')"
      ]
     },
     "execution_count": 19,
     "metadata": {},
     "output_type": "execute_result"
    },
    {
     "data": {
      "text/plain": [
       "<Figure size 1152x576 with 0 Axes>"
      ]
     },
     "metadata": {},
     "output_type": "display_data"
    },
    {
     "data": {
      "image/png": "[encoded data removed]",
      "text/plain": [
       "<Figure size 360x360 with 1 Axes>"
      ]
     },
     "metadata": {
      "needs_background": "light"
     },
     "output_type": "display_data"
    }
   ],
   "source": [
    "#Sex\n",
    "plt.figure(figsize=(16,8))\n",
    "sns.factorplot(x=\"Sex\",y=\"Survived\", data=df, kind=\"bar\")\n",
    "plt.ylabel(\"Survival probability\")"
   ]
  },
  {
   "cell_type": "code",
   "execution_count": 20,
   "metadata": {
    "execution": {
     "iopub.execute_input": "2022-01-25T10:33:04.960658Z",
     "iopub.status.busy": "2022-01-25T10:33:04.959695Z",
     "iopub.status.idle": "2022-01-25T10:33:05.352706Z",
     "shell.execute_reply": "2022-01-25T10:33:05.351728Z",
     "shell.execute_reply.started": "2022-01-25T10:33:04.960595Z"
    }
   },
   "outputs": [
    {
     "data": {
      "text/plain": [
       "Text(6.799999999999997, 0.5, 'Survival probability')"
      ]
     },
     "execution_count": 20,
     "metadata": {},
     "output_type": "execute_result"
    },
    {
     "data": {
      "text/plain": [
       "<Figure size 1152x576 with 0 Axes>"
      ]
     },
     "metadata": {},
     "output_type": "display_data"
    },
    {
     "data": {
      "image/png": "[encoded data removed]",
      "text/plain": [
       "<Figure size 360x360 with 1 Axes>"
      ]
     },
     "metadata": {
      "needs_background": "light"
     },
     "output_type": "display_data"
    }
   ],
   "source": [
    "#Pclass\n",
    "plt.figure(figsize=(16,8))\n",
    "sns.factorplot(x=\"Pclass\",y=\"Survived\", data=df, kind=\"bar\")\n",
    "plt.ylabel(\"Survival probability\")"
   ]
  },
  {
   "cell_type": "code",
   "execution_count": 21,
   "metadata": {
    "execution": {
     "iopub.execute_input": "2022-01-25T10:33:05.504264Z",
     "iopub.status.busy": "2022-01-25T10:33:05.503602Z",
     "iopub.status.idle": "2022-01-25T10:33:06.078695Z",
     "shell.execute_reply": "2022-01-25T10:33:06.077801Z",
     "shell.execute_reply.started": "2022-01-25T10:33:05.504216Z"
    }
   },
   "outputs": [
    {
     "data": {
      "text/plain": [
       "Text(13.419166666666662, 0.5, 'Survival probability')"
      ]
     },
     "execution_count": 21,
     "metadata": {},
     "output_type": "execute_result"
    },
    {
     "data": {
      "text/plain": [
       "<Figure size 1152x576 with 0 Axes>"
      ]
     },
     "metadata": {},
     "output_type": "display_data"
    },
    {
     "data": {
      "image/png": "[encoded data removed]",
      "text/plain": [
       "<Figure size 430.5x360 with 1 Axes>"
      ]
     },
     "metadata": {
      "needs_background": "light"
     },
     "output_type": "display_data"
    }
   ],
   "source": [
    "#Pclass and survived by sex\n",
    "plt.figure(figsize=(16,8))\n",
    "sns.factorplot(x=\"Pclass\",y=\"Survived\", hue=\"Sex\", data=df, kind=\"bar\")\n",
    "plt.ylabel(\"Survival probability\")"
   ]
  },
  {
   "cell_type": "code",
   "execution_count": 22,
   "metadata": {
    "execution": {
     "iopub.execute_input": "2022-01-25T10:33:06.080692Z",
     "iopub.status.busy": "2022-01-25T10:33:06.080347Z",
     "iopub.status.idle": "2022-01-25T10:33:06.092404Z",
     "shell.execute_reply": "2022-01-25T10:33:06.091255Z",
     "shell.execute_reply.started": "2022-01-25T10:33:06.080657Z"
    }
   },
   "outputs": [],
   "source": [
    "#standardization of numerical variables\n",
    "Scaler = StandardScaler()\n",
    "df[['Age','Fare','SibSp','Parch','Pclass']] = Scaler.fit_transform(df[['Age','Fare','SibSp','Parch','Pclass']])"
   ]
  },
  {
   "cell_type": "code",
   "execution_count": 23,
   "metadata": {
    "execution": {
     "iopub.execute_input": "2022-01-25T10:33:06.576615Z",
     "iopub.status.busy": "2022-01-25T10:33:06.576290Z",
     "iopub.status.idle": "2022-01-25T10:33:06.583654Z",
     "shell.execute_reply": "2022-01-25T10:33:06.582980Z",
     "shell.execute_reply.started": "2022-01-25T10:33:06.576558Z"
    }
   },
   "outputs": [
    {
     "data": {
      "text/plain": [
       "2"
      ]
     },
     "execution_count": 23,
     "metadata": {},
     "output_type": "execute_result"
    }
   ],
   "source": [
    "#Embarked\n",
    "df[\"Embarked\"].isnull().sum()"
   ]
  },
  {
   "cell_type": "code",
   "execution_count": 24,
   "metadata": {
    "execution": {
     "iopub.execute_input": "2022-01-25T10:33:09.089808Z",
     "iopub.status.busy": "2022-01-25T10:33:09.089332Z",
     "iopub.status.idle": "2022-01-25T10:33:09.097617Z",
     "shell.execute_reply": "2022-01-25T10:33:09.096874Z",
     "shell.execute_reply.started": "2022-01-25T10:33:09.089764Z"
    }
   },
   "outputs": [
    {
     "data": {
      "text/plain": [
       "S    637\n",
       "C    165\n",
       "Q     77\n",
       "Name: Embarked, dtype: int64"
      ]
     },
     "execution_count": 24,
     "metadata": {},
     "output_type": "execute_result"
    }
   ],
   "source": [
    "df[\"Embarked\"].value_counts()"
   ]
  },
  {
   "cell_type": "code",
   "execution_count": 25,
   "metadata": {
    "execution": {
     "iopub.execute_input": "2022-01-25T10:33:09.618124Z",
     "iopub.status.busy": "2022-01-25T10:33:09.617846Z",
     "iopub.status.idle": "2022-01-25T10:33:09.623883Z",
     "shell.execute_reply": "2022-01-25T10:33:09.622860Z",
     "shell.execute_reply.started": "2022-01-25T10:33:09.618093Z"
    }
   },
   "outputs": [],
   "source": [
    "#Embarked\n",
    "df[\"Embarked\"]=df[\"Embarked\"].fillna(\"S\")"
   ]
  },
  {
   "cell_type": "code",
   "execution_count": 26,
   "metadata": {
    "execution": {
     "iopub.execute_input": "2022-01-25T10:33:10.263826Z",
     "iopub.status.busy": "2022-01-25T10:33:10.263512Z",
     "iopub.status.idle": "2022-01-25T10:33:10.632612Z",
     "shell.execute_reply": "2022-01-25T10:33:10.631832Z",
     "shell.execute_reply.started": "2022-01-25T10:33:10.263787Z"
    }
   },
   "outputs": [
    {
     "data": {
      "text/plain": [
       "Text(6.799999999999997, 0.5, 'Survival probability')"
      ]
     },
     "execution_count": 26,
     "metadata": {},
     "output_type": "execute_result"
    },
    {
     "data": {
      "text/plain": [
       "<Figure size 1152x576 with 0 Axes>"
      ]
     },
     "metadata": {},
     "output_type": "display_data"
    },
    {
     "data": {
      "image/png": "[encoded data removed]",
      "text/plain": [
       "<Figure size 360x360 with 1 Axes>"
      ]
     },
     "metadata": {
      "needs_background": "light"
     },
     "output_type": "display_data"
    }
   ],
   "source": [
    "plt.figure(figsize=(16,8))\n",
    "sns.factorplot(x=\"Embarked\",y=\"Survived\", data=df, kind=\"bar\")\n",
    "plt.ylabel(\"Survival probability\")"
   ]
  },
  {
   "cell_type": "code",
   "execution_count": 27,
   "metadata": {
    "execution": {
     "iopub.execute_input": "2022-01-25T10:33:10.840475Z",
     "iopub.status.busy": "2022-01-25T10:33:10.839683Z",
     "iopub.status.idle": "2022-01-25T10:33:10.854031Z",
     "shell.execute_reply": "2022-01-25T10:33:10.853235Z",
     "shell.execute_reply.started": "2022-01-25T10:33:10.840427Z"
    }
   },
   "outputs": [],
   "source": [
    "#Dummies variables \"Sex\",\"Embarked\" and \"Pclass\"\n",
    "df = pd.get_dummies(df, columns=['Sex'],drop_first=True)\n",
    "df = pd.get_dummies(df, columns=['Embarked'])"
   ]
  },
  {
   "cell_type": "code",
   "execution_count": 28,
   "metadata": {
    "execution": {
     "iopub.execute_input": "2022-01-25T10:33:11.371382Z",
     "iopub.status.busy": "2022-01-25T10:33:11.370508Z",
     "iopub.status.idle": "2022-01-25T10:33:11.378900Z",
     "shell.execute_reply": "2022-01-25T10:33:11.378026Z",
     "shell.execute_reply.started": "2022-01-25T10:33:11.371345Z"
    }
   },
   "outputs": [
    {
     "data": {
      "text/plain": [
       "202"
      ]
     },
     "execution_count": 28,
     "metadata": {},
     "output_type": "execute_result"
    }
   ],
   "source": [
    "#Cabin\n",
    "df[\"Cabin\"].value_counts().sum()"
   ]
  },
  {
   "cell_type": "code",
   "execution_count": 29,
   "metadata": {
    "execution": {
     "iopub.execute_input": "2022-01-25T10:33:11.890839Z",
     "iopub.status.busy": "2022-01-25T10:33:11.890508Z",
     "iopub.status.idle": "2022-01-25T10:33:11.899355Z",
     "shell.execute_reply": "2022-01-25T10:33:11.898667Z",
     "shell.execute_reply.started": "2022-01-25T10:33:11.890808Z"
    }
   },
   "outputs": [
    {
     "data": {
      "text/plain": [
       "0     NaN\n",
       "1     C85\n",
       "2     NaN\n",
       "3    C123\n",
       "4     NaN\n",
       "5     NaN\n",
       "6     E46\n",
       "7     NaN\n",
       "8     NaN\n",
       "9     NaN\n",
       "Name: Cabin, dtype: object"
      ]
     },
     "execution_count": 29,
     "metadata": {},
     "output_type": "execute_result"
    }
   ],
   "source": [
    "df[\"Cabin\"].head(10)"
   ]
  },
  {
   "cell_type": "code",
   "execution_count": 30,
   "metadata": {
    "execution": {
     "iopub.execute_input": "2022-01-25T10:33:12.540657Z",
     "iopub.status.busy": "2022-01-25T10:33:12.540107Z",
     "iopub.status.idle": "2022-01-25T10:33:12.547794Z",
     "shell.execute_reply": "2022-01-25T10:33:12.546920Z",
     "shell.execute_reply.started": "2022-01-25T10:33:12.540601Z"
    }
   },
   "outputs": [
    {
     "data": {
      "text/plain": [
       "679"
      ]
     },
     "execution_count": 30,
     "metadata": {},
     "output_type": "execute_result"
    }
   ],
   "source": [
    "df[\"Cabin\"].isnull().sum()"
   ]
  },
  {
   "cell_type": "code",
   "execution_count": 31,
   "metadata": {
    "execution": {
     "iopub.execute_input": "2022-01-25T10:33:13.420795Z",
     "iopub.status.busy": "2022-01-25T10:33:13.420200Z",
     "iopub.status.idle": "2022-01-25T10:33:13.428321Z",
     "shell.execute_reply": "2022-01-25T10:33:13.427261Z",
     "shell.execute_reply.started": "2022-01-25T10:33:13.420750Z"
    }
   },
   "outputs": [],
   "source": [
    "#Replace cabin number with prefix and fill null values with \"X\"\n",
    "df[\"Cabin\"]=pd.Series([i[0] if not pd.isnull(i) else \"X\" for i in df[\"Cabin\"]])"
   ]
  },
  {
   "cell_type": "code",
   "execution_count": 32,
   "metadata": {
    "execution": {
     "iopub.execute_input": "2022-01-25T10:33:14.093155Z",
     "iopub.status.busy": "2022-01-25T10:33:14.092738Z",
     "iopub.status.idle": "2022-01-25T10:33:14.339200Z",
     "shell.execute_reply": "2022-01-25T10:33:14.338378Z",
     "shell.execute_reply.started": "2022-01-25T10:33:14.093123Z"
    }
   },
   "outputs": [
    {
     "data": {
      "text/plain": [
       "<AxesSubplot:xlabel='Cabin', ylabel='count'>"
      ]
     },
     "execution_count": 32,
     "metadata": {},
     "output_type": "execute_result"
    },
    {
     "data": {
      "image/png": "[encoded data removed]",
      "text/plain": [
       "<Figure size 1152x576 with 1 Axes>"
      ]
     },
     "metadata": {
      "needs_background": "light"
     },
     "output_type": "display_data"
    }
   ],
   "source": [
    "plt.figure(figsize=(16,8))\n",
    "sns.countplot(df[\"Cabin\"])\n"
   ]
  },
  {
   "cell_type": "code",
   "execution_count": 33,
   "metadata": {
    "execution": {
     "iopub.execute_input": "2022-01-25T10:33:14.810648Z",
     "iopub.status.busy": "2022-01-25T10:33:14.810351Z",
     "iopub.status.idle": "2022-01-25T10:33:15.373614Z",
     "shell.execute_reply": "2022-01-25T10:33:15.372742Z",
     "shell.execute_reply.started": "2022-01-25T10:33:14.810616Z"
    }
   },
   "outputs": [
    {
     "data": {
      "text/plain": [
       "Text(6.799999999999997, 0.5, 'Survival probability')"
      ]
     },
     "execution_count": 33,
     "metadata": {},
     "output_type": "execute_result"
    },
    {
     "data": {
      "text/plain": [
       "<Figure size 1152x576 with 0 Axes>"
      ]
     },
     "metadata": {},
     "output_type": "display_data"
    },
    {
     "data": {
      "image/png": "[encoded data removed]",
      "text/plain": [
       "<Figure size 360x360 with 1 Axes>"
      ]
     },
     "metadata": {
      "needs_background": "light"
     },
     "output_type": "display_data"
    }
   ],
   "source": [
    "plt.figure(figsize=(16,8))\n",
    "sns.factorplot(x=\"Cabin\",y=\"Survived\", data=df, kind=\"bar\")\n",
    "plt.ylabel(\"Survival probability\")"
   ]
  },
  {
   "cell_type": "code",
   "execution_count": 34,
   "metadata": {
    "execution": {
     "iopub.execute_input": "2022-01-25T10:33:15.499524Z",
     "iopub.status.busy": "2022-01-25T10:33:15.498603Z",
     "iopub.status.idle": "2022-01-25T10:33:15.510356Z",
     "shell.execute_reply": "2022-01-25T10:33:15.509435Z",
     "shell.execute_reply.started": "2022-01-25T10:33:15.499471Z"
    }
   },
   "outputs": [],
   "source": [
    "df = pd.get_dummies(df, columns=['Cabin'])"
   ]
  },
  {
   "cell_type": "code",
   "execution_count": 35,
   "metadata": {
    "execution": {
     "iopub.execute_input": "2022-01-25T10:33:16.133595Z",
     "iopub.status.busy": "2022-01-25T10:33:16.132878Z",
     "iopub.status.idle": "2022-01-25T10:33:16.145843Z",
     "shell.execute_reply": "2022-01-25T10:33:16.144980Z",
     "shell.execute_reply.started": "2022-01-25T10:33:16.133518Z"
    }
   },
   "outputs": [
    {
     "data": {
      "text/plain": [
       "0         A5\n",
       "1         PC\n",
       "2     STONO2\n",
       "3          X\n",
       "4          X\n",
       "5          X\n",
       "6          X\n",
       "7          X\n",
       "8          X\n",
       "9          X\n",
       "10        PP\n",
       "11         X\n",
       "12        A5\n",
       "13         X\n",
       "14         X\n",
       "15         X\n",
       "16         X\n",
       "17         X\n",
       "18         X\n",
       "19         X\n",
       "Name: Ticket, dtype: object"
      ]
     },
     "execution_count": 35,
     "metadata": {},
     "output_type": "execute_result"
    }
   ],
   "source": [
    "#Take prefix of every ticket, if there is no prefix assign \"X\"\n",
    "Ticket =[]\n",
    "for i in list (df.Ticket):\n",
    "    if not i.isdigit():\n",
    "        Ticket.append(i.replace(\".\",\"\").replace(\"/\",\"\").strip().split(\" \")[0])\n",
    "    else:\n",
    "        Ticket.append(\"X\")\n",
    "df.Ticket=Ticket\n",
    "df.Ticket.head(20)"
   ]
  },
  {
   "cell_type": "code",
   "execution_count": 36,
   "metadata": {
    "execution": {
     "iopub.execute_input": "2022-01-25T10:33:16.725188Z",
     "iopub.status.busy": "2022-01-25T10:33:16.724583Z",
     "iopub.status.idle": "2022-01-25T10:33:16.734947Z",
     "shell.execute_reply": "2022-01-25T10:33:16.733793Z",
     "shell.execute_reply.started": "2022-01-25T10:33:16.725144Z"
    }
   },
   "outputs": [],
   "source": [
    "#Dummy for \"Ticket\"\n",
    "df = pd.get_dummies(df, columns=['Ticket'])"
   ]
  },
  {
   "cell_type": "code",
   "execution_count": 37,
   "metadata": {
    "execution": {
     "iopub.execute_input": "2022-01-25T10:33:17.379265Z",
     "iopub.status.busy": "2022-01-25T10:33:17.378956Z",
     "iopub.status.idle": "2022-01-25T10:33:17.387974Z",
     "shell.execute_reply": "2022-01-25T10:33:17.387048Z",
     "shell.execute_reply.started": "2022-01-25T10:33:17.379224Z"
    }
   },
   "outputs": [
    {
     "data": {
      "text/plain": [
       "0                              Braund, Mr. Owen Harris\n",
       "1    Cumings, Mrs. John Bradley (Florence Briggs Th...\n",
       "2                               Heikkinen, Miss. Laina\n",
       "3         Futrelle, Mrs. Jacques Heath (Lily May Peel)\n",
       "4                             Allen, Mr. William Henry\n",
       "Name: Name, dtype: object"
      ]
     },
     "execution_count": 37,
     "metadata": {},
     "output_type": "execute_result"
    }
   ],
   "source": [
    "#Name\n",
    "df[\"Name\"].head()"
   ]
  },
  {
   "cell_type": "code",
   "execution_count": 38,
   "metadata": {
    "execution": {
     "iopub.execute_input": "2022-01-25T10:33:18.392184Z",
     "iopub.status.busy": "2022-01-25T10:33:18.391842Z",
     "iopub.status.idle": "2022-01-25T10:33:18.403460Z",
     "shell.execute_reply": "2022-01-25T10:33:18.402755Z",
     "shell.execute_reply.started": "2022-01-25T10:33:18.392147Z"
    }
   },
   "outputs": [
    {
     "data": {
      "text/plain": [
       "0      Mr\n",
       "1     Mrs\n",
       "2    Miss\n",
       "3     Mrs\n",
       "4      Mr\n",
       "Name: Title, dtype: object"
      ]
     },
     "execution_count": 38,
     "metadata": {},
     "output_type": "execute_result"
    }
   ],
   "source": [
    "# Get Title from Name\n",
    "df_title = [i.split(\",\")[1].split(\".\")[0].strip() for i in df[\"Name\"]]\n",
    "df[\"Title\"] = pd.Series(df_title)\n",
    "df[\"Title\"].head()"
   ]
  },
  {
   "cell_type": "code",
   "execution_count": 39,
   "metadata": {
    "execution": {
     "iopub.execute_input": "2022-01-25T10:33:19.121111Z",
     "iopub.status.busy": "2022-01-25T10:33:19.120409Z",
     "iopub.status.idle": "2022-01-25T10:33:19.456530Z",
     "shell.execute_reply": "2022-01-25T10:33:19.455850Z",
     "shell.execute_reply.started": "2022-01-25T10:33:19.121062Z"
    }
   },
   "outputs": [
    {
     "data": {
      "text/plain": [
       "<AxesSubplot:xlabel='Title', ylabel='count'>"
      ]
     },
     "execution_count": 39,
     "metadata": {},
     "output_type": "execute_result"
    },
    {
     "data": {
      "image/png": "[encoded data removed]",
      "text/plain": [
       "<Figure size 1152x576 with 1 Axes>"
      ]
     },
     "metadata": {
      "needs_background": "light"
     },
     "output_type": "display_data"
    }
   ],
   "source": [
    "plt.figure(figsize=(16,8))\n",
    "sns.countplot(x=\"Title\",data=df)"
   ]
  },
  {
   "cell_type": "code",
   "execution_count": 40,
   "metadata": {
    "execution": {
     "iopub.execute_input": "2022-01-25T10:33:19.820485Z",
     "iopub.status.busy": "2022-01-25T10:33:19.820070Z",
     "iopub.status.idle": "2022-01-25T10:33:19.832983Z",
     "shell.execute_reply": "2022-01-25T10:33:19.832145Z",
     "shell.execute_reply.started": "2022-01-25T10:33:19.820452Z"
    }
   },
   "outputs": [
    {
     "data": {
      "text/plain": [
       "Mr        505\n",
       "Miss      177\n",
       "Mrs       124\n",
       "Master     38\n",
       "Rare       23\n",
       "Mlle        2\n",
       "Ms          1\n",
       "Mme         1\n",
       "Name: Title, dtype: int64"
      ]
     },
     "execution_count": 40,
     "metadata": {},
     "output_type": "execute_result"
    }
   ],
   "source": [
    "#Group rare title \n",
    "df[\"Title\"] = df[\"Title\"].replace(['Lady', 'the Countess','Countess','Capt', 'Col','Don', 'Dr', 'Major', 'Rev', 'Sir', 'Jonkheer', 'Dona'], 'Rare')\n",
    "df[\"Title\"].value_counts()"
   ]
  },
  {
   "cell_type": "code",
   "execution_count": 41,
   "metadata": {
    "execution": {
     "iopub.execute_input": "2022-01-25T10:33:21.410385Z",
     "iopub.status.busy": "2022-01-25T10:33:21.409790Z",
     "iopub.status.idle": "2022-01-25T10:33:21.419940Z",
     "shell.execute_reply": "2022-01-25T10:33:21.419368Z",
     "shell.execute_reply.started": "2022-01-25T10:33:21.410351Z"
    }
   },
   "outputs": [
    {
     "data": {
      "text/plain": [
       "Mr          505\n",
       "Miss-Mrs    305\n",
       "Master       38\n",
       "Rare         23\n",
       "Name: Title, dtype: int64"
      ]
     },
     "execution_count": 41,
     "metadata": {},
     "output_type": "execute_result"
    }
   ],
   "source": [
    "df[\"Title\"] = df[\"Title\"].replace(['Miss','Ms','Mme', 'Mlle','Mrs'], 'Miss-Mrs')\n",
    "df[\"Title\"].value_counts()"
   ]
  },
  {
   "cell_type": "code",
   "execution_count": 42,
   "metadata": {
    "execution": {
     "iopub.execute_input": "2022-01-25T10:33:22.734666Z",
     "iopub.status.busy": "2022-01-25T10:33:22.734317Z",
     "iopub.status.idle": "2022-01-25T10:33:22.741495Z",
     "shell.execute_reply": "2022-01-25T10:33:22.740858Z",
     "shell.execute_reply.started": "2022-01-25T10:33:22.734632Z"
    }
   },
   "outputs": [],
   "source": [
    "df.drop(labels = [\"Name\"], axis = 1, inplace = True)"
   ]
  },
  {
   "cell_type": "code",
   "execution_count": 43,
   "metadata": {
    "execution": {
     "iopub.execute_input": "2022-01-25T10:33:23.442453Z",
     "iopub.status.busy": "2022-01-25T10:33:23.442115Z",
     "iopub.status.idle": "2022-01-25T10:33:23.451522Z",
     "shell.execute_reply": "2022-01-25T10:33:23.450798Z",
     "shell.execute_reply.started": "2022-01-25T10:33:23.442421Z"
    }
   },
   "outputs": [],
   "source": [
    "df = pd.get_dummies(df, columns=['Title'])"
   ]
  },
  {
   "cell_type": "code",
   "execution_count": 44,
   "metadata": {},
   "outputs": [],
   "source": [
    "df.drop(labels = [\"PassengerId\"], axis = 1, inplace = True)"
   ]
  },
  {
   "cell_type": "code",
   "execution_count": 45,
   "metadata": {
    "execution": {
     "iopub.execute_input": "2022-01-25T10:33:24.478896Z",
     "iopub.status.busy": "2022-01-25T10:33:24.478517Z",
     "iopub.status.idle": "2022-01-25T10:33:24.507424Z",
     "shell.execute_reply": "2022-01-25T10:33:24.506604Z",
     "shell.execute_reply.started": "2022-01-25T10:33:24.478858Z"
    }
   },
   "outputs": [
    {
     "data": {
      "text/html": [
       "<div>\n",
       "<style scoped>\n",
       "    .dataframe tbody tr th:only-of-type {\n",
       "        vertical-align: middle;\n",
       "    }\n",
       "\n",
       "    .dataframe tbody tr th {\n",
       "        vertical-align: top;\n",
       "    }\n",
       "\n",
       "    .dataframe thead th {\n",
       "        text-align: right;\n",
       "    }\n",
       "</style>\n",
       "<table border=\"1\" class=\"dataframe\">\n",
       "  <thead>\n",
       "    <tr style=\"text-align: right;\">\n",
       "      <th></th>\n",
       "      <th>Survived</th>\n",
       "      <th>Pclass</th>\n",
       "      <th>Age</th>\n",
       "      <th>SibSp</th>\n",
       "      <th>Parch</th>\n",
       "      <th>Fare</th>\n",
       "      <th>Sex_male</th>\n",
       "      <th>Embarked_C</th>\n",
       "      <th>Embarked_Q</th>\n",
       "      <th>Embarked_S</th>\n",
       "      <th>...</th>\n",
       "      <th>Ticket_STONO</th>\n",
       "      <th>Ticket_STONO2</th>\n",
       "      <th>Ticket_SWPP</th>\n",
       "      <th>Ticket_WC</th>\n",
       "      <th>Ticket_WEP</th>\n",
       "      <th>Ticket_X</th>\n",
       "      <th>Title_Master</th>\n",
       "      <th>Title_Miss-Mrs</th>\n",
       "      <th>Title_Mr</th>\n",
       "      <th>Title_Rare</th>\n",
       "    </tr>\n",
       "  </thead>\n",
       "  <tbody>\n",
       "    <tr>\n",
       "      <th>0</th>\n",
       "      <td>0</td>\n",
       "      <td>0.829632</td>\n",
       "      <td>-0.562050</td>\n",
       "      <td>0.605331</td>\n",
       "      <td>-0.463071</td>\n",
       "      <td>-0.907670</td>\n",
       "      <td>1</td>\n",
       "      <td>0</td>\n",
       "      <td>0</td>\n",
       "      <td>1</td>\n",
       "      <td>...</td>\n",
       "      <td>0</td>\n",
       "      <td>0</td>\n",
       "      <td>0</td>\n",
       "      <td>0</td>\n",
       "      <td>0</td>\n",
       "      <td>0</td>\n",
       "      <td>0</td>\n",
       "      <td>0</td>\n",
       "      <td>1</td>\n",
       "      <td>0</td>\n",
       "    </tr>\n",
       "    <tr>\n",
       "      <th>1</th>\n",
       "      <td>1</td>\n",
       "      <td>-1.566780</td>\n",
       "      <td>0.661117</td>\n",
       "      <td>0.605331</td>\n",
       "      <td>-0.463071</td>\n",
       "      <td>1.421429</td>\n",
       "      <td>0</td>\n",
       "      <td>1</td>\n",
       "      <td>0</td>\n",
       "      <td>0</td>\n",
       "      <td>...</td>\n",
       "      <td>0</td>\n",
       "      <td>0</td>\n",
       "      <td>0</td>\n",
       "      <td>0</td>\n",
       "      <td>0</td>\n",
       "      <td>0</td>\n",
       "      <td>0</td>\n",
       "      <td>1</td>\n",
       "      <td>0</td>\n",
       "      <td>0</td>\n",
       "    </tr>\n",
       "    <tr>\n",
       "      <th>2</th>\n",
       "      <td>1</td>\n",
       "      <td>0.829632</td>\n",
       "      <td>-0.256259</td>\n",
       "      <td>-0.526934</td>\n",
       "      <td>-0.463071</td>\n",
       "      <td>-0.816958</td>\n",
       "      <td>0</td>\n",
       "      <td>0</td>\n",
       "      <td>0</td>\n",
       "      <td>1</td>\n",
       "      <td>...</td>\n",
       "      <td>0</td>\n",
       "      <td>1</td>\n",
       "      <td>0</td>\n",
       "      <td>0</td>\n",
       "      <td>0</td>\n",
       "      <td>0</td>\n",
       "      <td>0</td>\n",
       "      <td>1</td>\n",
       "      <td>0</td>\n",
       "      <td>0</td>\n",
       "    </tr>\n",
       "    <tr>\n",
       "      <th>3</th>\n",
       "      <td>1</td>\n",
       "      <td>-1.566780</td>\n",
       "      <td>0.431773</td>\n",
       "      <td>0.605331</td>\n",
       "      <td>-0.463071</td>\n",
       "      <td>1.121347</td>\n",
       "      <td>0</td>\n",
       "      <td>0</td>\n",
       "      <td>0</td>\n",
       "      <td>1</td>\n",
       "      <td>...</td>\n",
       "      <td>0</td>\n",
       "      <td>0</td>\n",
       "      <td>0</td>\n",
       "      <td>0</td>\n",
       "      <td>0</td>\n",
       "      <td>1</td>\n",
       "      <td>0</td>\n",
       "      <td>1</td>\n",
       "      <td>0</td>\n",
       "      <td>0</td>\n",
       "    </tr>\n",
       "    <tr>\n",
       "      <th>4</th>\n",
       "      <td>0</td>\n",
       "      <td>0.829632</td>\n",
       "      <td>0.431773</td>\n",
       "      <td>-0.526934</td>\n",
       "      <td>-0.463071</td>\n",
       "      <td>-0.801010</td>\n",
       "      <td>1</td>\n",
       "      <td>0</td>\n",
       "      <td>0</td>\n",
       "      <td>1</td>\n",
       "      <td>...</td>\n",
       "      <td>0</td>\n",
       "      <td>0</td>\n",
       "      <td>0</td>\n",
       "      <td>0</td>\n",
       "      <td>0</td>\n",
       "      <td>1</td>\n",
       "      <td>0</td>\n",
       "      <td>0</td>\n",
       "      <td>1</td>\n",
       "      <td>0</td>\n",
       "    </tr>\n",
       "    <tr>\n",
       "      <th>...</th>\n",
       "      <td>...</td>\n",
       "      <td>...</td>\n",
       "      <td>...</td>\n",
       "      <td>...</td>\n",
       "      <td>...</td>\n",
       "      <td>...</td>\n",
       "      <td>...</td>\n",
       "      <td>...</td>\n",
       "      <td>...</td>\n",
       "      <td>...</td>\n",
       "      <td>...</td>\n",
       "      <td>...</td>\n",
       "      <td>...</td>\n",
       "      <td>...</td>\n",
       "      <td>...</td>\n",
       "      <td>...</td>\n",
       "      <td>...</td>\n",
       "      <td>...</td>\n",
       "      <td>...</td>\n",
       "      <td>...</td>\n",
       "      <td>...</td>\n",
       "    </tr>\n",
       "    <tr>\n",
       "      <th>886</th>\n",
       "      <td>0</td>\n",
       "      <td>-0.368574</td>\n",
       "      <td>-0.179811</td>\n",
       "      <td>-0.526934</td>\n",
       "      <td>-0.463071</td>\n",
       "      <td>-0.312624</td>\n",
       "      <td>1</td>\n",
       "      <td>0</td>\n",
       "      <td>0</td>\n",
       "      <td>1</td>\n",
       "      <td>...</td>\n",
       "      <td>0</td>\n",
       "      <td>0</td>\n",
       "      <td>0</td>\n",
       "      <td>0</td>\n",
       "      <td>0</td>\n",
       "      <td>1</td>\n",
       "      <td>0</td>\n",
       "      <td>0</td>\n",
       "      <td>0</td>\n",
       "      <td>0</td>\n",
       "    </tr>\n",
       "    <tr>\n",
       "      <th>887</th>\n",
       "      <td>1</td>\n",
       "      <td>-1.566780</td>\n",
       "      <td>-0.791394</td>\n",
       "      <td>-0.526934</td>\n",
       "      <td>-0.463071</td>\n",
       "      <td>0.539516</td>\n",
       "      <td>0</td>\n",
       "      <td>0</td>\n",
       "      <td>0</td>\n",
       "      <td>1</td>\n",
       "      <td>...</td>\n",
       "      <td>0</td>\n",
       "      <td>0</td>\n",
       "      <td>0</td>\n",
       "      <td>0</td>\n",
       "      <td>0</td>\n",
       "      <td>1</td>\n",
       "      <td>0</td>\n",
       "      <td>0</td>\n",
       "      <td>0</td>\n",
       "      <td>0</td>\n",
       "    </tr>\n",
       "    <tr>\n",
       "      <th>888</th>\n",
       "      <td>0</td>\n",
       "      <td>0.829632</td>\n",
       "      <td>-0.103363</td>\n",
       "      <td>0.605331</td>\n",
       "      <td>2.047486</td>\n",
       "      <td>0.288508</td>\n",
       "      <td>0</td>\n",
       "      <td>0</td>\n",
       "      <td>0</td>\n",
       "      <td>1</td>\n",
       "      <td>...</td>\n",
       "      <td>0</td>\n",
       "      <td>0</td>\n",
       "      <td>0</td>\n",
       "      <td>1</td>\n",
       "      <td>0</td>\n",
       "      <td>0</td>\n",
       "      <td>0</td>\n",
       "      <td>0</td>\n",
       "      <td>0</td>\n",
       "      <td>0</td>\n",
       "    </tr>\n",
       "    <tr>\n",
       "      <th>889</th>\n",
       "      <td>1</td>\n",
       "      <td>-1.566780</td>\n",
       "      <td>-0.256259</td>\n",
       "      <td>-0.526934</td>\n",
       "      <td>-0.463071</td>\n",
       "      <td>0.539516</td>\n",
       "      <td>1</td>\n",
       "      <td>1</td>\n",
       "      <td>0</td>\n",
       "      <td>0</td>\n",
       "      <td>...</td>\n",
       "      <td>0</td>\n",
       "      <td>0</td>\n",
       "      <td>0</td>\n",
       "      <td>0</td>\n",
       "      <td>0</td>\n",
       "      <td>1</td>\n",
       "      <td>0</td>\n",
       "      <td>0</td>\n",
       "      <td>0</td>\n",
       "      <td>0</td>\n",
       "    </tr>\n",
       "    <tr>\n",
       "      <th>890</th>\n",
       "      <td>0</td>\n",
       "      <td>0.829632</td>\n",
       "      <td>0.202429</td>\n",
       "      <td>-0.526934</td>\n",
       "      <td>-0.463071</td>\n",
       "      <td>-0.839711</td>\n",
       "      <td>1</td>\n",
       "      <td>0</td>\n",
       "      <td>1</td>\n",
       "      <td>0</td>\n",
       "      <td>...</td>\n",
       "      <td>0</td>\n",
       "      <td>0</td>\n",
       "      <td>0</td>\n",
       "      <td>0</td>\n",
       "      <td>0</td>\n",
       "      <td>1</td>\n",
       "      <td>0</td>\n",
       "      <td>0</td>\n",
       "      <td>0</td>\n",
       "      <td>0</td>\n",
       "    </tr>\n",
       "  </tbody>\n",
       "</table>\n",
       "<p>881 rows × 54 columns</p>\n",
       "</div>"
      ],
      "text/plain": [
       "     Survived    Pclass       Age     SibSp     Parch      Fare  Sex_male  \\\n",
       "0           0  0.829632 -0.562050  0.605331 -0.463071 -0.907670         1   \n",
       "1           1 -1.566780  0.661117  0.605331 -0.463071  1.421429         0   \n",
       "2           1  0.829632 -0.256259 -0.526934 -0.463071 -0.816958         0   \n",
       "3           1 -1.566780  0.431773  0.605331 -0.463071  1.121347         0   \n",
       "4           0  0.829632  0.431773 -0.526934 -0.463071 -0.801010         1   \n",
       "..        ...       ...       ...       ...       ...       ...       ...   \n",
       "886         0 -0.368574 -0.179811 -0.526934 -0.463071 -0.312624         1   \n",
       "887         1 -1.566780 -0.791394 -0.526934 -0.463071  0.539516         0   \n",
       "888         0  0.829632 -0.103363  0.605331  2.047486  0.288508         0   \n",
       "889         1 -1.566780 -0.256259 -0.526934 -0.463071  0.539516         1   \n",
       "890         0  0.829632  0.202429 -0.526934 -0.463071 -0.839711         1   \n",
       "\n",
       "     Embarked_C  Embarked_Q  Embarked_S  ...  Ticket_STONO  Ticket_STONO2  \\\n",
       "0             0           0           1  ...             0              0   \n",
       "1             1           0           0  ...             0              0   \n",
       "2             0           0           1  ...             0              1   \n",
       "3             0           0           1  ...             0              0   \n",
       "4             0           0           1  ...             0              0   \n",
       "..          ...         ...         ...  ...           ...            ...   \n",
       "886           0           0           1  ...             0              0   \n",
       "887           0           0           1  ...             0              0   \n",
       "888           0           0           1  ...             0              0   \n",
       "889           1           0           0  ...             0              0   \n",
       "890           0           1           0  ...             0              0   \n",
       "\n",
       "     Ticket_SWPP  Ticket_WC  Ticket_WEP  Ticket_X  Title_Master  \\\n",
       "0              0          0           0         0             0   \n",
       "1              0          0           0         0             0   \n",
       "2              0          0           0         0             0   \n",
       "3              0          0           0         1             0   \n",
       "4              0          0           0         1             0   \n",
       "..           ...        ...         ...       ...           ...   \n",
       "886            0          0           0         1             0   \n",
       "887            0          0           0         1             0   \n",
       "888            0          1           0         0             0   \n",
       "889            0          0           0         1             0   \n",
       "890            0          0           0         1             0   \n",
       "\n",
       "     Title_Miss-Mrs  Title_Mr  Title_Rare  \n",
       "0                 0         1           0  \n",
       "1                 1         0           0  \n",
       "2                 1         0           0  \n",
       "3                 1         0           0  \n",
       "4                 0         1           0  \n",
       "..              ...       ...         ...  \n",
       "886               0         0           0  \n",
       "887               0         0           0  \n",
       "888               0         0           0  \n",
       "889               0         0           0  \n",
       "890               0         0           0  \n",
       "\n",
       "[881 rows x 54 columns]"
      ]
     },
     "execution_count": 45,
     "metadata": {},
     "output_type": "execute_result"
    }
   ],
   "source": [
    "pd.get_option(\"display.max_columns\")\n",
    "df"
   ]
  },
  {
   "cell_type": "markdown",
   "metadata": {},
   "source": [
    "# **Modeling**"
   ]
  },
  {
   "cell_type": "code",
   "execution_count": 46,
   "metadata": {},
   "outputs": [],
   "source": [
    "X= df.loc[:, df.columns != 'Survived'].values\n",
    "y= df.loc[:, df.columns == 'Survived'].values.squeeze()"
   ]
  },
  {
   "cell_type": "code",
   "execution_count": 47,
   "metadata": {},
   "outputs": [
    {
     "data": {
      "text/plain": [
       "((704, 53), (177, 53), (704,), (177,))"
      ]
     },
     "execution_count": 47,
     "metadata": {},
     "output_type": "execute_result"
    }
   ],
   "source": [
    "X_train, X_test, y_train, y_test = train_test_split(X, y, shuffle=True,test_size=0.2, stratify=y, random_state=1)\n",
    "X_train.shape, X_test.shape, y_train.shape, y_test.shape"
   ]
  },
  {
   "cell_type": "code",
   "execution_count": 48,
   "metadata": {
    "execution": {
     "iopub.execute_input": "2022-01-25T10:33:33.834731Z",
     "iopub.status.busy": "2022-01-25T10:33:33.834079Z",
     "iopub.status.idle": "2022-01-25T10:33:33.839042Z",
     "shell.execute_reply": "2022-01-25T10:33:33.838438Z",
     "shell.execute_reply.started": "2022-01-25T10:33:33.834687Z"
    }
   },
   "outputs": [],
   "source": [
    "score_fnc= balanced_accuracy_score\n",
    "rn=24\n",
    "kfold = StratifiedKFold(n_splits=10, shuffle=True, random_state=rn)"
   ]
  },
  {
   "cell_type": "code",
   "execution_count": 49,
   "metadata": {
    "execution": {
     "iopub.execute_input": "2022-01-25T10:33:35.224220Z",
     "iopub.status.busy": "2022-01-25T10:33:35.223470Z",
     "iopub.status.idle": "2022-01-25T10:34:53.327065Z",
     "shell.execute_reply": "2022-01-25T10:34:53.326311Z",
     "shell.execute_reply.started": "2022-01-25T10:33:35.224175Z"
    }
   },
   "outputs": [
    {
     "name": "stdout",
     "output_type": "stream",
     "text": [
      "Fitting 10 folds for each of 250 candidates, totalling 2500 fits\n"
     ]
    },
    {
     "name": "stderr",
     "output_type": "stream",
     "text": [
      "[Parallel(n_jobs=-1)]: Using backend LokyBackend with 4 concurrent workers.\n",
      "[Parallel(n_jobs=-1)]: Done  56 tasks      | elapsed:    3.1s\n",
      "[Parallel(n_jobs=-1)]: Done 656 tasks      | elapsed:   13.0s\n",
      "[Parallel(n_jobs=-1)]: Done 1656 tasks      | elapsed:   28.7s\n",
      "[Parallel(n_jobs=-1)]: Done 2493 out of 2500 | elapsed:   42.1s remaining:    0.0s\n",
      "[Parallel(n_jobs=-1)]: Done 2500 out of 2500 | elapsed:   42.2s finished\n"
     ]
    },
    {
     "data": {
      "text/plain": [
       "(0.7443939673590836,\n",
       " {'C': 0.7844540044809872, 'gamma': 1.074664065610211, 'kernel': 'rbf'})"
      ]
     },
     "execution_count": 49,
     "metadata": {},
     "output_type": "execute_result"
    }
   ],
   "source": [
    "#SUPPORT VECTOR MACHINE\n",
    "param_grid_SVC= {'kernel':['rbf'], 'gamma': np.logspace(0.001,1,100), 'C': loguniform(1e-2,1e3)}\n",
    "svc = svm.SVC(class_weight=\"balanced\")\n",
    "rsSVC= RandomizedSearchCV(estimator=svc, param_distributions=param_grid_SVC, scoring=make_scorer(score_fnc),cv=kfold, n_iter=250, n_jobs=-1, verbose=1)\n",
    "rsSVC.fit(X_train,y_train)\n",
    "SVC_best = rsSVC.best_estimator_\n",
    "rsSVC.best_score_, rsSVC.best_params_"
   ]
  },
  {
   "cell_type": "code",
   "execution_count": 50,
   "metadata": {
    "execution": {
     "iopub.execute_input": "2022-01-25T10:35:04.717196Z",
     "iopub.status.busy": "2022-01-25T10:35:04.716616Z",
     "iopub.status.idle": "2022-01-25T10:44:04.988301Z",
     "shell.execute_reply": "2022-01-25T10:44:04.987325Z",
     "shell.execute_reply.started": "2022-01-25T10:35:04.717139Z"
    }
   },
   "outputs": [
    {
     "name": "stderr",
     "output_type": "stream",
     "text": [
      "[Parallel(n_jobs=-1)]: Using backend LokyBackend with 4 concurrent workers.\n"
     ]
    },
    {
     "name": "stdout",
     "output_type": "stream",
     "text": [
      "Fitting 10 folds for each of 250 candidates, totalling 2500 fits\n"
     ]
    },
    {
     "name": "stderr",
     "output_type": "stream",
     "text": [
      "[Parallel(n_jobs=-1)]: Done  42 tasks      | elapsed:    7.4s\n",
      "[Parallel(n_jobs=-1)]: Done 192 tasks      | elapsed:   33.8s\n",
      "[Parallel(n_jobs=-1)]: Done 442 tasks      | elapsed:  1.3min\n",
      "[Parallel(n_jobs=-1)]: Done 792 tasks      | elapsed:  2.3min\n",
      "[Parallel(n_jobs=-1)]: Done 1242 tasks      | elapsed:  3.7min\n",
      "[Parallel(n_jobs=-1)]: Done 1792 tasks      | elapsed:  5.3min\n",
      "[Parallel(n_jobs=-1)]: Done 2442 tasks      | elapsed:  7.2min\n",
      "[Parallel(n_jobs=-1)]: Done 2500 out of 2500 | elapsed:  7.3min finished\n"
     ]
    },
    {
     "data": {
      "text/plain": [
       "(0.8158558173093058,\n",
       " {'n_estimators': 200, 'min_samples_leaf': 3, 'max_features': 28})"
      ]
     },
     "execution_count": 50,
     "metadata": {},
     "output_type": "execute_result"
    }
   ],
   "source": [
    "#RANDOM FOREST\n",
    "param_grid_RF= {\"max_features\":np.arange(1,60), \"n_estimators\": np.arange(150,250,10),\"min_samples_leaf\":[1, 3, 7, 10]}\n",
    "RF = RandomForestClassifier(class_weight=\"balanced\")\n",
    "rsRF= RandomizedSearchCV(estimator=RF, param_distributions=param_grid_RF , scoring=make_scorer(score_fnc), cv=kfold, n_iter=250, n_jobs=-1, verbose=1)\n",
    "rsRF.fit(X_train,y_train)\n",
    "RF_best = rsRF.best_estimator_\n",
    "rsRF.best_score_, rsRF.best_params_"
   ]
  },
  {
   "cell_type": "code",
   "execution_count": 51,
   "metadata": {
    "execution": {
     "iopub.execute_input": "2022-01-25T10:44:13.145405Z",
     "iopub.status.busy": "2022-01-25T10:44:13.144350Z",
     "iopub.status.idle": "2022-01-25T10:46:10.225890Z",
     "shell.execute_reply": "2022-01-25T10:46:10.225000Z",
     "shell.execute_reply.started": "2022-01-25T10:44:13.145360Z"
    }
   },
   "outputs": [
    {
     "name": "stdout",
     "output_type": "stream",
     "text": [
      "Fitting 10 folds for each of 216 candidates, totalling 2160 fits\n"
     ]
    },
    {
     "name": "stderr",
     "output_type": "stream",
     "text": [
      "[Parallel(n_jobs=-1)]: Using backend LokyBackend with 4 concurrent workers.\n",
      "[Parallel(n_jobs=-1)]: Done  76 tasks      | elapsed:    3.9s\n",
      "[Parallel(n_jobs=-1)]: Done 376 tasks      | elapsed:   17.2s\n",
      "[Parallel(n_jobs=-1)]: Done 876 tasks      | elapsed:   42.3s\n",
      "[Parallel(n_jobs=-1)]: Done 1576 tasks      | elapsed:  1.2min\n",
      "[Parallel(n_jobs=-1)]: Done 2160 out of 2160 | elapsed:  1.7min finished\n"
     ]
    },
    {
     "data": {
      "text/plain": [
       "(0.7588330704609774,\n",
       " {'n_estimators': 300,\n",
       "  'min_samples_leaf': 100,\n",
       "  'max_features': 0.3,\n",
       "  'max_depth': 16,\n",
       "  'loss': 'deviance',\n",
       "  'learning_rate': 0.1})"
      ]
     },
     "execution_count": 51,
     "metadata": {},
     "output_type": "execute_result"
    }
   ],
   "source": [
    "#GBC\n",
    "gb_param_grid = {'loss':[\"deviance\"],'n_estimators' : [100,200,300],'learning_rate': [0.1, 0.05, 0.01, 0.001],'max_depth': [4,8,16],\n",
    "            'min_samples_leaf': [100,150,250],'max_features': [0.3, 0.1]}\n",
    "GBC = GradientBoostingClassifier()\n",
    "rsGBC = RandomizedSearchCV(estimator=GBC, param_distributions=gb_param_grid , scoring=make_scorer(score_fnc), cv=kfold, n_iter=250, n_jobs=-1, verbose=1)\n",
    "rsGBC.fit(X_train,y_train)\n",
    "GBC_best = rsGBC.best_estimator_\n",
    "rsGBC.best_score_, rsGBC.best_params_"
   ]
  },
  {
   "cell_type": "code",
   "execution_count": 52,
   "metadata": {
    "execution": {
     "iopub.execute_input": "2022-01-25T10:46:16.462849Z",
     "iopub.status.busy": "2022-01-25T10:46:16.462473Z",
     "iopub.status.idle": "2022-01-25T10:46:19.739871Z",
     "shell.execute_reply": "2022-01-25T10:46:19.738963Z",
     "shell.execute_reply.started": "2022-01-25T10:46:16.462810Z"
    }
   },
   "outputs": [
    {
     "name": "stdout",
     "output_type": "stream",
     "text": [
      "Fitting 10 folds for each of 56 candidates, totalling 560 fits\n"
     ]
    },
    {
     "name": "stderr",
     "output_type": "stream",
     "text": [
      "[Parallel(n_jobs=-1)]: Using backend LokyBackend with 4 concurrent workers.\n",
      "[Parallel(n_jobs=-1)]: Done 200 tasks      | elapsed:    1.0s\n",
      "[Parallel(n_jobs=-1)]: Done 560 out of 560 | elapsed:    2.6s finished\n"
     ]
    },
    {
     "data": {
      "text/plain": [
       "(0.7691447979238677,\n",
       " {'n_estimators': 2,\n",
       "  'learning_rate': 0.1,\n",
       "  'base_estimator__splitter': 'best',\n",
       "  'base_estimator__criterion': 'gini'})"
      ]
     },
     "execution_count": 52,
     "metadata": {},
     "output_type": "execute_result"
    }
   ],
   "source": [
    "#ADABOOST\n",
    "DTC = DecisionTreeClassifier()\n",
    "ada_param_grid = {\"base_estimator__criterion\" : [\"gini\", \"entropy\"],\"base_estimator__splitter\" : [\"best\", \"random\"],\n",
    "              \"n_estimators\" :[1,2],\"learning_rate\":  [0.0001, 0.001, 0.01, 0.1, 0.2, 0.3,1.2]}\n",
    "adaDTC = AdaBoostClassifier(DTC, random_state=rn)\n",
    "rsADA = RandomizedSearchCV(adaDTC,param_distributions = ada_param_grid, scoring=make_scorer(score_fnc), cv=kfold, n_iter=250, n_jobs=-1, verbose=1)\n",
    "rsADA.fit(X_train,y_train)\n",
    "ADA_best = rsADA.best_estimator_\n",
    "rsADA.best_score_, rsADA.best_params_"
   ]
  },
  {
   "cell_type": "code",
   "execution_count": 55,
   "metadata": {},
   "outputs": [
    {
     "name": "stdout",
     "output_type": "stream",
     "text": [
      "Fitting 10 folds for each of 250 candidates, totalling 2500 fits\n"
     ]
    },
    {
     "name": "stderr",
     "output_type": "stream",
     "text": [
      "[Parallel(n_jobs=-1)]: Using backend LokyBackend with 4 concurrent workers.\n",
      "[Parallel(n_jobs=-1)]: Done  70 tasks      | elapsed:    2.2s\n",
      "[Parallel(n_jobs=-1)]: Done 2500 out of 2500 | elapsed:   14.3s finished\n"
     ]
    },
    {
     "data": {
      "text/plain": [
       "(0.7607706354799377, {'C': 0.1374626241836901, 'penalty': 'l2'})"
      ]
     },
     "execution_count": 55,
     "metadata": {},
     "output_type": "execute_result"
    }
   ],
   "source": [
    "#LOGISTIC REGRESSION\n",
    "param_grid_lr= {\"penalty\": [\"l1\",\"l2\"],'C': loguniform(1e-3,1e3)}\n",
    "LR = LogisticRegression()\n",
    "rsLR= RandomizedSearchCV(estimator=LR, param_distributions=param_grid_lr , scoring=make_scorer(score_fnc), \n",
    "                                    cv=kfold, n_iter=250, verbose=1, n_jobs=-1)\n",
    "rsLR.fit(X_train,y_train)\n",
    "LR_best = rsLR.best_estimator_\n",
    "rsLR.best_score_, rsLR.best_params_"
   ]
  },
  {
   "cell_type": "code",
   "execution_count": 56,
   "metadata": {
    "execution": {
     "iopub.execute_input": "2022-01-25T17:01:56.760772Z",
     "iopub.status.busy": "2022-01-25T17:01:56.760489Z",
     "iopub.status.idle": "2022-01-25T17:01:56.779066Z",
     "shell.execute_reply": "2022-01-25T17:01:56.778418Z",
     "shell.execute_reply.started": "2022-01-25T17:01:56.760743Z"
    }
   },
   "outputs": [
    {
     "data": {
      "text/plain": [
       "(SVC(C=0.7844540044809872, break_ties=False, cache_size=200,\n",
       "     class_weight='balanced', coef0=0.0, decision_function_shape='ovr', degree=3,\n",
       "     gamma=1.074664065610211, kernel='rbf', max_iter=-1, probability=False,\n",
       "     random_state=None, shrinking=True, tol=0.001, verbose=False),\n",
       " RandomForestClassifier(bootstrap=True, ccp_alpha=0.0, class_weight='balanced',\n",
       "                        criterion='gini', max_depth=None, max_features=28,\n",
       "                        max_leaf_nodes=None, max_samples=None,\n",
       "                        min_impurity_decrease=0.0, min_impurity_split=None,\n",
       "                        min_samples_leaf=3, min_samples_split=2,\n",
       "                        min_weight_fraction_leaf=0.0, n_estimators=200,\n",
       "                        n_jobs=None, oob_score=False, random_state=None,\n",
       "                        verbose=0, warm_start=False),\n",
       " LogisticRegression(C=0.1374626241836901, class_weight=None, dual=False,\n",
       "                    fit_intercept=True, intercept_scaling=1, l1_ratio=None,\n",
       "                    max_iter=100, multi_class='auto', n_jobs=None, penalty='l2',\n",
       "                    random_state=None, solver='lbfgs', tol=0.0001, verbose=0,\n",
       "                    warm_start=False),\n",
       " GradientBoostingClassifier(ccp_alpha=0.0, criterion='friedman_mse', init=None,\n",
       "                            learning_rate=0.1, loss='deviance', max_depth=16,\n",
       "                            max_features=0.3, max_leaf_nodes=None,\n",
       "                            min_impurity_decrease=0.0, min_impurity_split=None,\n",
       "                            min_samples_leaf=100, min_samples_split=2,\n",
       "                            min_weight_fraction_leaf=0.0, n_estimators=300,\n",
       "                            n_iter_no_change=None, presort='deprecated',\n",
       "                            random_state=None, subsample=1.0, tol=0.0001,\n",
       "                            validation_fraction=0.1, verbose=0,\n",
       "                            warm_start=False),\n",
       " AdaBoostClassifier(algorithm='SAMME.R',\n",
       "                    base_estimator=DecisionTreeClassifier(ccp_alpha=0.0,\n",
       "                                                          class_weight=None,\n",
       "                                                          criterion='gini',\n",
       "                                                          max_depth=None,\n",
       "                                                          max_features=None,\n",
       "                                                          max_leaf_nodes=None,\n",
       "                                                          min_impurity_decrease=0.0,\n",
       "                                                          min_impurity_split=None,\n",
       "                                                          min_samples_leaf=1,\n",
       "                                                          min_samples_split=2,\n",
       "                                                          min_weight_fraction_leaf=0.0,\n",
       "                                                          presort='deprecated',\n",
       "                                                          random_state=None,\n",
       "                                                          splitter='best'),\n",
       "                    learning_rate=0.1, n_estimators=2, random_state=24))"
      ]
     },
     "execution_count": 56,
     "metadata": {},
     "output_type": "execute_result"
    }
   ],
   "source": [
    "#I choose a voting classifier to combine the predictions from these models\n",
    "SVC_best, RF_best, LR_best, GBC_best, ADA_best"
   ]
  },
  {
   "cell_type": "code",
   "execution_count": 57,
   "metadata": {
    "execution": {
     "iopub.execute_input": "2022-01-25T17:01:59.883833Z",
     "iopub.status.busy": "2022-01-25T17:01:59.882928Z",
     "iopub.status.idle": "2022-01-25T17:02:02.162674Z",
     "shell.execute_reply": "2022-01-25T17:02:02.161966Z",
     "shell.execute_reply.started": "2022-01-25T17:01:59.883758Z"
    }
   },
   "outputs": [],
   "source": [
    "#Ensemble modeling\n",
    "votingC = VotingClassifier(estimators=[('svc', SVC_best), ('rf', RF_best),('lr', LR_best), ('gbc',GBC_best), ('ada',ADA_best)], voting='hard', n_jobs=-1)\n",
    "votingC = votingC.fit(X_train, y_train)"
   ]
  },
  {
   "cell_type": "code",
   "execution_count": 58,
   "metadata": {
    "execution": {
     "iopub.execute_input": "2022-01-25T17:02:03.576829Z",
     "iopub.status.busy": "2022-01-25T17:02:03.576482Z",
     "iopub.status.idle": "2022-01-25T17:02:03.704823Z",
     "shell.execute_reply": "2022-01-25T17:02:03.703824Z",
     "shell.execute_reply.started": "2022-01-25T17:02:03.576797Z"
    }
   },
   "outputs": [
    {
     "name": "stdout",
     "output_type": "stream",
     "text": [
      "0.87217\n"
     ]
    }
   ],
   "source": [
    "#Preditcion\n",
    "prediction=votingC.predict(X_test)\n",
    "result=balanced_accuracy_score(prediction,y_test)\n",
    "print(round(result,5))"
   ]
  }
 ],
 "metadata": {
  "kernelspec": {
   "display_name": "Python 3",
   "language": "python",
   "name": "python3"
  },
  "language_info": {
   "codemirror_mode": {
    "name": "ipython",
    "version": 3
   },
   "file_extension": ".py",
   "mimetype": "text/x-python",
   "name": "python",
   "nbconvert_exporter": "python",
   "pygments_lexer": "ipython3",
   "version": "3.8.5"
  }
 },
 "nbformat": 4,
 "nbformat_minor": 4
}

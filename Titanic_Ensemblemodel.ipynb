{
 "cells": [
  {
   "cell_type": "markdown",
   "metadata": {
    "execution": {
     "iopub.execute_input": "2022-01-23T23:01:37.564693Z",
     "iopub.status.busy": "2022-01-23T23:01:37.564321Z",
     "iopub.status.idle": "2022-01-23T23:01:39.091254Z",
     "shell.execute_reply": "2022-01-23T23:01:39.090433Z",
     "shell.execute_reply.started": "2022-01-23T23:01:37.564608Z"
    },
    "id": "PLCKbElxb5rf"
   },
   "source": [
    "# **Survivors on Titanic prediction**"
   ]
  },
  {
   "cell_type": "code",
   "execution_count": 1,
   "metadata": {
    "execution": {
     "iopub.execute_input": "2022-01-25T10:32:46.251894Z",
     "iopub.status.busy": "2022-01-25T10:32:46.251245Z",
     "iopub.status.idle": "2022-01-25T10:32:47.893968Z",
     "shell.execute_reply": "2022-01-25T10:32:47.891644Z",
     "shell.execute_reply.started": "2022-01-25T10:32:46.251837Z"
    },
    "id": "xUoZUMU6b5rj"
   },
   "outputs": [],
   "source": [
    "import pandas as pd\n",
    "import numpy as np\n",
    "import matplotlib.pyplot as plt\n",
    "import seaborn as sns\n",
    "import math\n",
    "from scipy.stats import loguniform\n",
    "from sklearn.preprocessing import StandardScaler\n",
    "from sklearn.model_selection import train_test_split,RandomizedSearchCV, StratifiedKFold\n",
    "from sklearn.tree import DecisionTreeClassifier\n",
    "from sklearn.linear_model import LogisticRegression\n",
    "from sklearn import svm\n",
    "from catboost import CatBoostClassifier\n",
    "from sklearn.metrics import balanced_accuracy_score, make_scorer, classification_report\n",
    "from sklearn.ensemble import RandomForestClassifier,VotingClassifier,AdaBoostClassifier,GradientBoostingClassifier,ExtraTreesClassifier\n",
    "import os\n",
    "import warnings\n",
    "warnings.filterwarnings('ignore')\n",
    "%matplotlib inline"
   ]
  },
  {
   "cell_type": "code",
   "execution_count": 2,
   "metadata": {
    "execution": {
     "iopub.execute_input": "2022-01-25T10:32:50.357869Z",
     "iopub.status.busy": "2022-01-25T10:32:50.357494Z",
     "iopub.status.idle": "2022-01-25T10:32:50.396166Z",
     "shell.execute_reply": "2022-01-25T10:32:50.395127Z",
     "shell.execute_reply.started": "2022-01-25T10:32:50.357832Z"
    },
    "id": "eXFTClkbb5ro"
   },
   "outputs": [],
   "source": [
    "df = pd.read_csv(\"Data_Titanic.csv\")"
   ]
  },
  {
   "cell_type": "code",
   "execution_count": 3,
   "metadata": {
    "colab": {
     "base_uri": "https://localhost:8080/",
     "height": 284
    },
    "execution": {
     "iopub.execute_input": "2022-01-25T10:32:51.356004Z",
     "iopub.status.busy": "2022-01-25T10:32:51.355656Z",
     "iopub.status.idle": "2022-01-25T10:32:51.380358Z",
     "shell.execute_reply": "2022-01-25T10:32:51.379451Z",
     "shell.execute_reply.started": "2022-01-25T10:32:51.355973Z"
    },
    "id": "ZdLnrHchb5rq",
    "outputId": "bfcae259-1bf8-4184-b066-e0067377ea17"
   },
   "outputs": [
    {
     "data": {
      "text/html": [
       "<div>\n",
       "<style scoped>\n",
       "    .dataframe tbody tr th:only-of-type {\n",
       "        vertical-align: middle;\n",
       "    }\n",
       "\n",
       "    .dataframe tbody tr th {\n",
       "        vertical-align: top;\n",
       "    }\n",
       "\n",
       "    .dataframe thead th {\n",
       "        text-align: right;\n",
       "    }\n",
       "</style>\n",
       "<table border=\"1\" class=\"dataframe\">\n",
       "  <thead>\n",
       "    <tr style=\"text-align: right;\">\n",
       "      <th></th>\n",
       "      <th>PassengerId</th>\n",
       "      <th>Survived</th>\n",
       "      <th>Pclass</th>\n",
       "      <th>Name</th>\n",
       "      <th>Sex</th>\n",
       "      <th>Age</th>\n",
       "      <th>SibSp</th>\n",
       "      <th>Parch</th>\n",
       "      <th>Ticket</th>\n",
       "      <th>Fare</th>\n",
       "      <th>Cabin</th>\n",
       "      <th>Embarked</th>\n",
       "    </tr>\n",
       "  </thead>\n",
       "  <tbody>\n",
       "    <tr>\n",
       "      <th>0</th>\n",
       "      <td>1</td>\n",
       "      <td>0</td>\n",
       "      <td>3</td>\n",
       "      <td>Braund, Mr. Owen Harris</td>\n",
       "      <td>male</td>\n",
       "      <td>22.0</td>\n",
       "      <td>1</td>\n",
       "      <td>0</td>\n",
       "      <td>A/5 21171</td>\n",
       "      <td>7.2500</td>\n",
       "      <td>NaN</td>\n",
       "      <td>S</td>\n",
       "    </tr>\n",
       "    <tr>\n",
       "      <th>1</th>\n",
       "      <td>2</td>\n",
       "      <td>1</td>\n",
       "      <td>1</td>\n",
       "      <td>Cumings, Mrs. John Bradley (Florence Briggs Th...</td>\n",
       "      <td>female</td>\n",
       "      <td>38.0</td>\n",
       "      <td>1</td>\n",
       "      <td>0</td>\n",
       "      <td>PC 17599</td>\n",
       "      <td>71.2833</td>\n",
       "      <td>C85</td>\n",
       "      <td>C</td>\n",
       "    </tr>\n",
       "    <tr>\n",
       "      <th>2</th>\n",
       "      <td>3</td>\n",
       "      <td>1</td>\n",
       "      <td>3</td>\n",
       "      <td>Heikkinen, Miss. Laina</td>\n",
       "      <td>female</td>\n",
       "      <td>26.0</td>\n",
       "      <td>0</td>\n",
       "      <td>0</td>\n",
       "      <td>STON/O2. 3101282</td>\n",
       "      <td>7.9250</td>\n",
       "      <td>NaN</td>\n",
       "      <td>S</td>\n",
       "    </tr>\n",
       "    <tr>\n",
       "      <th>3</th>\n",
       "      <td>4</td>\n",
       "      <td>1</td>\n",
       "      <td>1</td>\n",
       "      <td>Futrelle, Mrs. Jacques Heath (Lily May Peel)</td>\n",
       "      <td>female</td>\n",
       "      <td>35.0</td>\n",
       "      <td>1</td>\n",
       "      <td>0</td>\n",
       "      <td>113803</td>\n",
       "      <td>53.1000</td>\n",
       "      <td>C123</td>\n",
       "      <td>S</td>\n",
       "    </tr>\n",
       "    <tr>\n",
       "      <th>4</th>\n",
       "      <td>5</td>\n",
       "      <td>0</td>\n",
       "      <td>3</td>\n",
       "      <td>Allen, Mr. William Henry</td>\n",
       "      <td>male</td>\n",
       "      <td>35.0</td>\n",
       "      <td>0</td>\n",
       "      <td>0</td>\n",
       "      <td>373450</td>\n",
       "      <td>8.0500</td>\n",
       "      <td>NaN</td>\n",
       "      <td>S</td>\n",
       "    </tr>\n",
       "  </tbody>\n",
       "</table>\n",
       "</div>"
      ],
      "text/plain": [
       "   PassengerId  Survived  Pclass  \\\n",
       "0            1         0       3   \n",
       "1            2         1       1   \n",
       "2            3         1       3   \n",
       "3            4         1       1   \n",
       "4            5         0       3   \n",
       "\n",
       "                                                Name     Sex   Age  SibSp  \\\n",
       "0                            Braund, Mr. Owen Harris    male  22.0      1   \n",
       "1  Cumings, Mrs. John Bradley (Florence Briggs Th...  female  38.0      1   \n",
       "2                             Heikkinen, Miss. Laina  female  26.0      0   \n",
       "3       Futrelle, Mrs. Jacques Heath (Lily May Peel)  female  35.0      1   \n",
       "4                           Allen, Mr. William Henry    male  35.0      0   \n",
       "\n",
       "   Parch            Ticket     Fare Cabin Embarked  \n",
       "0      0         A/5 21171   7.2500   NaN        S  \n",
       "1      0          PC 17599  71.2833   C85        C  \n",
       "2      0  STON/O2. 3101282   7.9250   NaN        S  \n",
       "3      0            113803  53.1000  C123        S  \n",
       "4      0            373450   8.0500   NaN        S  "
      ]
     },
     "execution_count": 3,
     "metadata": {},
     "output_type": "execute_result"
    }
   ],
   "source": [
    "df.head()"
   ]
  },
  {
   "cell_type": "markdown",
   "metadata": {
    "id": "eC5cujtFb5rt"
   },
   "source": [
    "## <font color=black> Variable Description </font>\n",
    "- PassengerId: <font color=black> passenger's **ID** </font> \n",
    "- Survived: <font color=black> **0** </font>= No, <font color=black> **1** </font>= Yes\n",
    "- PClass: Passenger Class=<font color=black> (1=**1st**. 2=**2nd**,3=**3rd**) </font>\n",
    "- Name: <font color=black> passenger's **name** </font> \n",
    "- Sex: <font color=black> passenger's **sex** </font> \n",
    "- Age: <font color=black> passenger's **age** </font> \n",
    "- SibSp: <font color=black> **number** of Siblings/Spouses Aboard </font> \n",
    "- Parch: <font color=black> **number** of Parents/Children Aboard </font>\n",
    "- Ticket: <font color=black> **Ticket number** </font> \n",
    "- Fare: <font color=black> **Passenger Fare** (British pound) </font> \n",
    "- Cabin: <font color=black> **Cabin ID** </font> \n",
    "- Embarked: <font color=black> **Port of Embarkation** </font> C=Cherbourg, Q=Queenstown, S=Southampton"
   ]
  },
  {
   "cell_type": "markdown",
   "metadata": {
    "id": "NvKZpB3Tb5ru"
   },
   "source": [
    "# **Data analysis and features engineering**"
   ]
  },
  {
   "cell_type": "code",
   "execution_count": 4,
   "metadata": {
    "colab": {
     "base_uri": "https://localhost:8080/"
    },
    "execution": {
     "iopub.execute_input": "2022-01-25T10:32:53.908949Z",
     "iopub.status.busy": "2022-01-25T10:32:53.908616Z",
     "iopub.status.idle": "2022-01-25T10:32:53.915141Z",
     "shell.execute_reply": "2022-01-25T10:32:53.914555Z",
     "shell.execute_reply.started": "2022-01-25T10:32:53.908916Z"
    },
    "id": "MwEBJZKXb5rw",
    "outputId": "20b00a3d-0267-4672-8d40-e68207f623ec"
   },
   "outputs": [
    {
     "data": {
      "text/plain": [
       "(891, 12)"
      ]
     },
     "execution_count": 4,
     "metadata": {},
     "output_type": "execute_result"
    }
   ],
   "source": [
    "df.shape"
   ]
  },
  {
   "cell_type": "code",
   "execution_count": 5,
   "metadata": {
    "colab": {
     "base_uri": "https://localhost:8080/"
    },
    "execution": {
     "iopub.execute_input": "2022-01-25T10:32:54.514528Z",
     "iopub.status.busy": "2022-01-25T10:32:54.514057Z",
     "iopub.status.idle": "2022-01-25T10:32:54.537064Z",
     "shell.execute_reply": "2022-01-25T10:32:54.536133Z",
     "shell.execute_reply.started": "2022-01-25T10:32:54.514478Z"
    },
    "id": "WlKQsg_kb5ry",
    "outputId": "ea89033a-0e41-47a4-c0b9-e44e04d504c6"
   },
   "outputs": [
    {
     "name": "stdout",
     "output_type": "stream",
     "text": [
      "<class 'pandas.core.frame.DataFrame'>\n",
      "RangeIndex: 891 entries, 0 to 890\n",
      "Data columns (total 12 columns):\n",
      " #   Column       Non-Null Count  Dtype  \n",
      "---  ------       --------------  -----  \n",
      " 0   PassengerId  891 non-null    int64  \n",
      " 1   Survived     891 non-null    int64  \n",
      " 2   Pclass       891 non-null    int64  \n",
      " 3   Name         891 non-null    object \n",
      " 4   Sex          891 non-null    object \n",
      " 5   Age          714 non-null    float64\n",
      " 6   SibSp        891 non-null    int64  \n",
      " 7   Parch        891 non-null    int64  \n",
      " 8   Ticket       891 non-null    object \n",
      " 9   Fare         891 non-null    float64\n",
      " 10  Cabin        204 non-null    object \n",
      " 11  Embarked     889 non-null    object \n",
      "dtypes: float64(2), int64(5), object(5)\n",
      "memory usage: 83.7+ KB\n"
     ]
    }
   ],
   "source": [
    "df.info()"
   ]
  },
  {
   "cell_type": "code",
   "execution_count": 6,
   "metadata": {
    "colab": {
     "base_uri": "https://localhost:8080/",
     "height": 300
    },
    "execution": {
     "iopub.execute_input": "2022-01-25T10:32:55.143935Z",
     "iopub.status.busy": "2022-01-25T10:32:55.143035Z",
     "iopub.status.idle": "2022-01-25T10:32:55.179524Z",
     "shell.execute_reply": "2022-01-25T10:32:55.178626Z",
     "shell.execute_reply.started": "2022-01-25T10:32:55.143895Z"
    },
    "id": "DuAhhabgb5r0",
    "outputId": "8c6c1e51-db44-43b6-e6ea-d9f6db79f09c"
   },
   "outputs": [
    {
     "data": {
      "text/html": [
       "<div>\n",
       "<style scoped>\n",
       "    .dataframe tbody tr th:only-of-type {\n",
       "        vertical-align: middle;\n",
       "    }\n",
       "\n",
       "    .dataframe tbody tr th {\n",
       "        vertical-align: top;\n",
       "    }\n",
       "\n",
       "    .dataframe thead th {\n",
       "        text-align: right;\n",
       "    }\n",
       "</style>\n",
       "<table border=\"1\" class=\"dataframe\">\n",
       "  <thead>\n",
       "    <tr style=\"text-align: right;\">\n",
       "      <th></th>\n",
       "      <th>PassengerId</th>\n",
       "      <th>Survived</th>\n",
       "      <th>Pclass</th>\n",
       "      <th>Age</th>\n",
       "      <th>SibSp</th>\n",
       "      <th>Parch</th>\n",
       "      <th>Fare</th>\n",
       "    </tr>\n",
       "  </thead>\n",
       "  <tbody>\n",
       "    <tr>\n",
       "      <th>count</th>\n",
       "      <td>891.000000</td>\n",
       "      <td>891.000000</td>\n",
       "      <td>891.000000</td>\n",
       "      <td>714.000000</td>\n",
       "      <td>891.000000</td>\n",
       "      <td>891.000000</td>\n",
       "      <td>891.000000</td>\n",
       "    </tr>\n",
       "    <tr>\n",
       "      <th>mean</th>\n",
       "      <td>446.000000</td>\n",
       "      <td>0.383838</td>\n",
       "      <td>2.308642</td>\n",
       "      <td>29.699118</td>\n",
       "      <td>0.523008</td>\n",
       "      <td>0.381594</td>\n",
       "      <td>32.204208</td>\n",
       "    </tr>\n",
       "    <tr>\n",
       "      <th>std</th>\n",
       "      <td>257.353842</td>\n",
       "      <td>0.486592</td>\n",
       "      <td>0.836071</td>\n",
       "      <td>14.526497</td>\n",
       "      <td>1.102743</td>\n",
       "      <td>0.806057</td>\n",
       "      <td>49.693429</td>\n",
       "    </tr>\n",
       "    <tr>\n",
       "      <th>min</th>\n",
       "      <td>1.000000</td>\n",
       "      <td>0.000000</td>\n",
       "      <td>1.000000</td>\n",
       "      <td>0.420000</td>\n",
       "      <td>0.000000</td>\n",
       "      <td>0.000000</td>\n",
       "      <td>0.000000</td>\n",
       "    </tr>\n",
       "    <tr>\n",
       "      <th>25%</th>\n",
       "      <td>223.500000</td>\n",
       "      <td>0.000000</td>\n",
       "      <td>2.000000</td>\n",
       "      <td>20.125000</td>\n",
       "      <td>0.000000</td>\n",
       "      <td>0.000000</td>\n",
       "      <td>7.910400</td>\n",
       "    </tr>\n",
       "    <tr>\n",
       "      <th>50%</th>\n",
       "      <td>446.000000</td>\n",
       "      <td>0.000000</td>\n",
       "      <td>3.000000</td>\n",
       "      <td>28.000000</td>\n",
       "      <td>0.000000</td>\n",
       "      <td>0.000000</td>\n",
       "      <td>14.454200</td>\n",
       "    </tr>\n",
       "    <tr>\n",
       "      <th>75%</th>\n",
       "      <td>668.500000</td>\n",
       "      <td>1.000000</td>\n",
       "      <td>3.000000</td>\n",
       "      <td>38.000000</td>\n",
       "      <td>1.000000</td>\n",
       "      <td>0.000000</td>\n",
       "      <td>31.000000</td>\n",
       "    </tr>\n",
       "    <tr>\n",
       "      <th>max</th>\n",
       "      <td>891.000000</td>\n",
       "      <td>1.000000</td>\n",
       "      <td>3.000000</td>\n",
       "      <td>80.000000</td>\n",
       "      <td>8.000000</td>\n",
       "      <td>6.000000</td>\n",
       "      <td>512.329200</td>\n",
       "    </tr>\n",
       "  </tbody>\n",
       "</table>\n",
       "</div>"
      ],
      "text/plain": [
       "       PassengerId    Survived      Pclass         Age       SibSp  \\\n",
       "count   891.000000  891.000000  891.000000  714.000000  891.000000   \n",
       "mean    446.000000    0.383838    2.308642   29.699118    0.523008   \n",
       "std     257.353842    0.486592    0.836071   14.526497    1.102743   \n",
       "min       1.000000    0.000000    1.000000    0.420000    0.000000   \n",
       "25%     223.500000    0.000000    2.000000   20.125000    0.000000   \n",
       "50%     446.000000    0.000000    3.000000   28.000000    0.000000   \n",
       "75%     668.500000    1.000000    3.000000   38.000000    1.000000   \n",
       "max     891.000000    1.000000    3.000000   80.000000    8.000000   \n",
       "\n",
       "            Parch        Fare  \n",
       "count  891.000000  891.000000  \n",
       "mean     0.381594   32.204208  \n",
       "std      0.806057   49.693429  \n",
       "min      0.000000    0.000000  \n",
       "25%      0.000000    7.910400  \n",
       "50%      0.000000   14.454200  \n",
       "75%      0.000000   31.000000  \n",
       "max      6.000000  512.329200  "
      ]
     },
     "execution_count": 6,
     "metadata": {},
     "output_type": "execute_result"
    }
   ],
   "source": [
    "df.describe()"
   ]
  },
  {
   "cell_type": "code",
   "execution_count": 7,
   "metadata": {},
   "outputs": [
    {
     "name": "stdout",
     "output_type": "stream",
     "text": [
      "['PassengerId', 'Survived', 'Pclass', 'Age', 'SibSp', 'Parch', 'Fare']\n",
      "['Name', 'Sex', 'Ticket', 'Cabin', 'Embarked']\n"
     ]
    }
   ],
   "source": [
    "#Numerical features\n",
    "numerical = df.select_dtypes(include=np.number).columns.tolist()\n",
    "print(numerical)\n",
    "categorical = df.select_dtypes(exclude=np.number).columns.tolist()\n",
    "print(categorical)"
   ]
  },
  {
   "cell_type": "code",
   "execution_count": 8,
   "metadata": {
    "colab": {
     "base_uri": "https://localhost:8080/",
     "height": 482
    },
    "execution": {
     "iopub.execute_input": "2022-01-25T10:32:55.777955Z",
     "iopub.status.busy": "2022-01-25T10:32:55.777639Z",
     "iopub.status.idle": "2022-01-25T10:32:55.961457Z",
     "shell.execute_reply": "2022-01-25T10:32:55.958188Z",
     "shell.execute_reply.started": "2022-01-25T10:32:55.777924Z"
    },
    "id": "dYEHcrLUb5r3",
    "outputId": "6c99d10d-bf31-44d1-c64d-aed388f66928"
   },
   "outputs": [
    {
     "data": {
      "image/png": "[encoded data removed]",
      "text/plain": [
       "<Figure size 576x576 with 1 Axes>"
      ]
     },
     "metadata": {},
     "output_type": "display_data"
    }
   ],
   "source": [
    "#Survived and dead\n",
    "plt.figure(figsize=(8,8))\n",
    "plt.pie(df[\"Survived\"].value_counts(), colors=[\"red\", \"blue\"], labels=[\"Dead\",\"Survived\"], autopct='%.2f%%', explode=[0,0.02] )\n",
    "plt.title(\"Total of passenger\");"
   ]
  },
  {
   "cell_type": "code",
   "execution_count": 9,
   "metadata": {},
   "outputs": [],
   "source": [
    "#Replace cabin number with prefix and fill null values with \"X\"\n",
    "df[\"Cabin\"]=pd.Series([i[0] if not pd.isnull(i) else \"X\" for i in df[\"Cabin\"]])"
   ]
  },
  {
   "cell_type": "code",
   "execution_count": 10,
   "metadata": {},
   "outputs": [
    {
     "data": {
      "text/plain": [
       "<AxesSubplot:xlabel='Cabin', ylabel='count'>"
      ]
     },
     "execution_count": 10,
     "metadata": {},
     "output_type": "execute_result"
    },
    {
     "data": {
      "image/png": "[encoded data removed]",
      "text/plain": [
       "<Figure size 1152x576 with 1 Axes>"
      ]
     },
     "metadata": {
      "needs_background": "light"
     },
     "output_type": "display_data"
    }
   ],
   "source": [
    "plt.figure(figsize=(16,8))\n",
    "sns.countplot(df[\"Cabin\"])"
   ]
  },
  {
   "cell_type": "code",
   "execution_count": 11,
   "metadata": {},
   "outputs": [
    {
     "data": {
      "text/plain": [
       "Text(6.799999999999997, 0.5, 'Survival probability')"
      ]
     },
     "execution_count": 11,
     "metadata": {},
     "output_type": "execute_result"
    },
    {
     "data": {
      "text/plain": [
       "<Figure size 1152x576 with 0 Axes>"
      ]
     },
     "metadata": {},
     "output_type": "display_data"
    },
    {
     "data": {
      "image/png": "[encoded data removed]",
      "text/plain": [
       "<Figure size 360x360 with 1 Axes>"
      ]
     },
     "metadata": {
      "needs_background": "light"
     },
     "output_type": "display_data"
    }
   ],
   "source": [
    "plt.figure(figsize=(16,8))\n",
    "sns.factorplot(x=\"Cabin\",y=\"Survived\", data=df, kind=\"bar\")\n",
    "plt.ylabel(\"Survival probability\")"
   ]
  },
  {
   "cell_type": "code",
   "execution_count": 12,
   "metadata": {},
   "outputs": [
    {
     "data": {
      "text/plain": [
       "Text(0, 0.5, 'Survival probability')"
      ]
     },
     "execution_count": 12,
     "metadata": {},
     "output_type": "execute_result"
    },
    {
     "data": {
      "image/png": "[encoded data removed]",
      "text/plain": [
       "<Figure size 1152x576 with 1 Axes>"
      ]
     },
     "metadata": {
      "needs_background": "light"
     },
     "output_type": "display_data"
    }
   ],
   "source": [
    "#Pclass and survived by sex\n",
    "plt.figure(figsize=(16,8))\n",
    "sns.countplot(x='Cabin', hue='Pclass', data=df)\n",
    "plt.ylabel(\"Survival probability\")"
   ]
  },
  {
   "cell_type": "code",
   "execution_count": 13,
   "metadata": {},
   "outputs": [
    {
     "data": {
      "text/plain": [
       "Cabin  Pclass\n",
       "A      1          15\n",
       "B      1          47\n",
       "C      1          59\n",
       "D      1          29\n",
       "       2           4\n",
       "E      1          25\n",
       "       2           4\n",
       "       3           3\n",
       "F      2           8\n",
       "       3           5\n",
       "G      3           4\n",
       "T      1           1\n",
       "X      1          40\n",
       "       2         168\n",
       "       3         479\n",
       "dtype: int64"
      ]
     },
     "execution_count": 13,
     "metadata": {},
     "output_type": "execute_result"
    }
   ],
   "source": [
    "df.groupby(['Cabin', 'Pclass']).size()"
   ]
  },
  {
   "cell_type": "code",
   "execution_count": 14,
   "metadata": {},
   "outputs": [],
   "source": [
    "#Grouping Cabin based on Pclass\n",
    "df['Cabin'] = df['Cabin'].replace(['A', 'B', 'C', 'T'],'ABC')\n",
    "df['Cabin'] = df['Cabin'].replace(['D', 'E'], 'DE')\n",
    "df['Cabin'] = df['Cabin'].replace(['F', 'G'], 'FG')"
   ]
  },
  {
   "cell_type": "code",
   "execution_count": 15,
   "metadata": {},
   "outputs": [],
   "source": [
    "#Dummies variables \"Cabin\" \n",
    "df = pd.get_dummies(df, columns=['Cabin'])"
   ]
  },
  {
   "cell_type": "code",
   "execution_count": 16,
   "metadata": {},
   "outputs": [
    {
     "data": {
      "text/plain": [
       "PassengerId      0\n",
       "Survived         0\n",
       "Pclass           0\n",
       "Name             0\n",
       "Sex              0\n",
       "Age            177\n",
       "SibSp            0\n",
       "Parch            0\n",
       "Ticket           0\n",
       "Fare             0\n",
       "Embarked         2\n",
       "Cabin_ABC        0\n",
       "Cabin_DE         0\n",
       "Cabin_FG         0\n",
       "Cabin_X          0\n",
       "dtype: int64"
      ]
     },
     "execution_count": 16,
     "metadata": {},
     "output_type": "execute_result"
    }
   ],
   "source": [
    "df.isnull().sum()"
   ]
  },
  {
   "cell_type": "code",
   "execution_count": 17,
   "metadata": {
    "colab": {
     "base_uri": "https://localhost:8080/",
     "height": 566
    },
    "execution": {
     "iopub.execute_input": "2022-01-25T10:32:56.456642Z",
     "iopub.status.busy": "2022-01-25T10:32:56.455767Z",
     "iopub.status.idle": "2022-01-25T10:32:57.063986Z",
     "shell.execute_reply": "2022-01-25T10:32:57.062945Z",
     "shell.execute_reply.started": "2022-01-25T10:32:56.456592Z"
    },
    "id": "6PetyhpTb5r5",
    "outputId": "bf85218c-feb6-49e9-e5d9-344a33cb686c"
   },
   "outputs": [
    {
     "data": {
      "text/plain": [
       "<AxesSubplot:title={'center':'Fare boxplot'}, xlabel='Fare'>"
      ]
     },
     "execution_count": 17,
     "metadata": {},
     "output_type": "execute_result"
    },
    {
     "data": {
      "image/png": "[encoded data removed]",
      "text/plain": [
       "<Figure size 1584x720 with 4 Axes>"
      ]
     },
     "metadata": {
      "needs_background": "light"
     },
     "output_type": "display_data"
    }
   ],
   "source": [
    "#Outlier detection\n",
    "plt.figure(figsize=(22,10))\n",
    "\n",
    "plt.subplot(2,2,1)\n",
    "plt.title(\"Age boxplot\")\n",
    "sns.boxplot(x=df.Age, palette=\"Blues_d\")\n",
    "\n",
    "plt.subplot(2,2,2)\n",
    "plt.title(\"SibSp boxplot\")\n",
    "sns.boxplot(x=df.SibSp, palette=\"Blues_d\")\n",
    "\n",
    "plt.subplot(2,2,3)\n",
    "plt.title(\"Parch boxplot\")\n",
    "sns.boxplot(x=df.Parch, palette=\"Blues_d\")\n",
    "\n",
    "plt.subplot(2,2,4)\n",
    "plt.title(\"Fare boxplot\")\n",
    "sns.boxplot(x=df.Fare, palette=\"Blues_d\")\n",
    "\n"
   ]
  },
  {
   "cell_type": "code",
   "execution_count": 18,
   "metadata": {
    "colab": {
     "base_uri": "https://localhost:8080/"
    },
    "execution": {
     "iopub.execute_input": "2022-01-25T10:32:57.364926Z",
     "iopub.status.busy": "2022-01-25T10:32:57.364368Z",
     "iopub.status.idle": "2022-01-25T10:32:57.372618Z",
     "shell.execute_reply": "2022-01-25T10:32:57.371885Z",
     "shell.execute_reply.started": "2022-01-25T10:32:57.364882Z"
    },
    "id": "DkNzG9hgb5r8",
    "outputId": "96ec9c39-5a3a-412d-b7b1-38b77f0953c9"
   },
   "outputs": [
    {
     "name": "stdout",
     "output_type": "stream",
     "text": [
      "(array([258, 679, 737], dtype=int64),)\n",
      "(array([159, 180, 201, 324, 792, 846, 863], dtype=int64),)\n"
     ]
    }
   ],
   "source": [
    "print(np.where(df['Fare']>500))\n",
    "print(np.where(df[\"SibSp\"]>=8))"
   ]
  },
  {
   "cell_type": "code",
   "execution_count": 19,
   "metadata": {
    "execution": {
     "iopub.execute_input": "2022-01-25T10:32:58.093766Z",
     "iopub.status.busy": "2022-01-25T10:32:58.093324Z",
     "iopub.status.idle": "2022-01-25T10:32:58.100091Z",
     "shell.execute_reply": "2022-01-25T10:32:58.099320Z",
     "shell.execute_reply.started": "2022-01-25T10:32:58.093726Z"
    },
    "id": "sBxdgBVbb5r9"
   },
   "outputs": [],
   "source": [
    "df.drop(df.index[[258, 679, 737,159, 180, 201, 324, 792, 846, 863]], inplace=True)"
   ]
  },
  {
   "cell_type": "code",
   "execution_count": 20,
   "metadata": {
    "colab": {
     "base_uri": "https://localhost:8080/",
     "height": 287
    },
    "execution": {
     "iopub.execute_input": "2022-01-25T10:33:00.457359Z",
     "iopub.status.busy": "2022-01-25T10:33:00.456840Z",
     "iopub.status.idle": "2022-01-25T10:33:00.829408Z",
     "shell.execute_reply": "2022-01-25T10:33:00.828441Z",
     "shell.execute_reply.started": "2022-01-25T10:33:00.457313Z"
    },
    "id": "7jskcmyBb5r-",
    "outputId": "8139aaa6-d576-4bd6-ee46-47016e53cd2a"
   },
   "outputs": [
    {
     "data": {
      "text/plain": [
       "<AxesSubplot:>"
      ]
     },
     "execution_count": 20,
     "metadata": {},
     "output_type": "execute_result"
    },
    {
     "data": {
      "image/png": "[encoded data removed]",
      "text/plain": [
       "<Figure size 432x288 with 2 Axes>"
      ]
     },
     "metadata": {
      "needs_background": "light"
     },
     "output_type": "display_data"
    }
   ],
   "source": [
    "#Correlation matrix between numerical features \n",
    "sns.heatmap(df[[\"SibSp\",\"Parch\",\"Age\",\"Fare\",\"Pclass\"]].corr(), fmt= \".2f\", annot=True, cmap=\"Reds\")"
   ]
  },
  {
   "cell_type": "code",
   "execution_count": 21,
   "metadata": {
    "colab": {
     "base_uri": "https://localhost:8080/",
     "height": 224
    },
    "id": "0tUe_ppWvHpN",
    "outputId": "6813bc32-15b1-4536-841c-7ae02566ddf8"
   },
   "outputs": [
    {
     "data": {
      "image/png": "[encoded data removed]",
      "text/plain": [
       "<Figure size 432x216 with 1 Axes>"
      ]
     },
     "metadata": {
      "needs_background": "light"
     },
     "output_type": "display_data"
    }
   ],
   "source": [
    "#Age\n",
    "facet = sns.FacetGrid(df, hue=\"Survived\", aspect=2)\n",
    "facet.map(sns.kdeplot, \"Age\", shade=True)\n",
    "facet.set(xlim=(0, df[\"Age\"].max()))\n",
    "plt.legend(loc=\"upper right\", labels=[\"Dead\",\"Survived\"]);"
   ]
  },
  {
   "cell_type": "code",
   "execution_count": 22,
   "metadata": {},
   "outputs": [],
   "source": [
    "# Fill Age missin values with the median age of similar rows according to the most correlated\n",
    "df['Age'] = df.groupby(['Pclass','SibSp'])['Age'].apply(lambda x: x.fillna(x.median()))"
   ]
  },
  {
   "cell_type": "code",
   "execution_count": 23,
   "metadata": {
    "id": "X0-nLvhFvHrl"
   },
   "outputs": [],
   "source": [
    "#Grouping Age\n",
    "df[\"Age\"] = df[\"Age\"].astype(int)\n",
    "df.loc[(df['Age'] <= 2), 'Age Group'] = 'Baby' \n",
    "df.loc[((df[\"Age\"] > 2) & (df['Age'] <= 10)), 'Age Group'] = 'Child' \n",
    "df.loc[((df[\"Age\"] > 10) & (df['Age'] <= 19)), 'Age Group'] = 'Young Adult'\n",
    "df.loc[((df[\"Age\"] > 19) & (df['Age'] <= 60)), 'Age Group'] = 'Adult'\n",
    "df.loc[(df[\"Age\"] > 60), 'Age Group'] = 'Senior'"
   ]
  },
  {
   "cell_type": "code",
   "execution_count": 24,
   "metadata": {
    "id": "DmwUnRHHvHt4"
   },
   "outputs": [],
   "source": [
    "df = pd.get_dummies(df, columns=['Age Group'])"
   ]
  },
  {
   "cell_type": "code",
   "execution_count": 25,
   "metadata": {
    "colab": {
     "base_uri": "https://localhost:8080/",
     "height": 405
    },
    "execution": {
     "iopub.execute_input": "2022-01-25T10:33:01.147247Z",
     "iopub.status.busy": "2022-01-25T10:33:01.146926Z",
     "iopub.status.idle": "2022-01-25T10:33:01.766979Z",
     "shell.execute_reply": "2022-01-25T10:33:01.765975Z",
     "shell.execute_reply.started": "2022-01-25T10:33:01.147214Z"
    },
    "id": "4MduM488b5r_",
    "outputId": "e428d810-afff-40f5-ffd9-d60692f1bc26"
   },
   "outputs": [
    {
     "data": {
      "text/plain": [
       "Text(6.799999999999997, 0.5, 'Survival probability')"
      ]
     },
     "execution_count": 25,
     "metadata": {},
     "output_type": "execute_result"
    },
    {
     "data": {
      "text/plain": [
       "<Figure size 1152x576 with 0 Axes>"
      ]
     },
     "metadata": {},
     "output_type": "display_data"
    },
    {
     "data": {
      "image/png": "[encoded data removed]",
      "text/plain": [
       "<Figure size 360x360 with 1 Axes>"
      ]
     },
     "metadata": {
      "needs_background": "light"
     },
     "output_type": "display_data"
    }
   ],
   "source": [
    "#SibSp\n",
    "plt.figure(figsize=(16,8))\n",
    "sns.factorplot(x=\"SibSp\",y=\"Survived\", data=df, kind=\"bar\")\n",
    "plt.ylabel(\"Survival probability\")"
   ]
  },
  {
   "cell_type": "code",
   "execution_count": 26,
   "metadata": {
    "colab": {
     "base_uri": "https://localhost:8080/",
     "height": 405
    },
    "execution": {
     "iopub.execute_input": "2022-01-25T10:33:01.769382Z",
     "iopub.status.busy": "2022-01-25T10:33:01.769040Z",
     "iopub.status.idle": "2022-01-25T10:33:02.205393Z",
     "shell.execute_reply": "2022-01-25T10:33:02.204426Z",
     "shell.execute_reply.started": "2022-01-25T10:33:01.769337Z"
    },
    "id": "VVVlGYkdb5sA",
    "outputId": "986ac8f0-37af-4f2a-e3b8-c57276d7986a"
   },
   "outputs": [
    {
     "data": {
      "text/plain": [
       "Text(6.799999999999997, 0.5, 'Survival probability')"
      ]
     },
     "execution_count": 26,
     "metadata": {},
     "output_type": "execute_result"
    },
    {
     "data": {
      "text/plain": [
       "<Figure size 1152x576 with 0 Axes>"
      ]
     },
     "metadata": {},
     "output_type": "display_data"
    },
    {
     "data": {
      "image/png": "[encoded data removed]",
      "text/plain": [
       "<Figure size 360x360 with 1 Axes>"
      ]
     },
     "metadata": {
      "needs_background": "light"
     },
     "output_type": "display_data"
    }
   ],
   "source": [
    "#Parch\n",
    "plt.figure(figsize=(16,8))\n",
    "sns.factorplot(x=\"Parch\",y=\"Survived\", data=df, kind=\"bar\")\n",
    "plt.ylabel(\"Survival probability\")"
   ]
  },
  {
   "cell_type": "code",
   "execution_count": 27,
   "metadata": {
    "colab": {
     "base_uri": "https://localhost:8080/",
     "height": 515
    },
    "execution": {
     "iopub.execute_input": "2022-01-25T10:33:03.308772Z",
     "iopub.status.busy": "2022-01-25T10:33:03.308218Z",
     "iopub.status.idle": "2022-01-25T10:33:03.674887Z",
     "shell.execute_reply": "2022-01-25T10:33:03.674237Z",
     "shell.execute_reply.started": "2022-01-25T10:33:03.308719Z"
    },
    "id": "o5_Mf_s4b5sT",
    "outputId": "5711ef45-a5f5-46b3-eebc-dd3577b656d5"
   },
   "outputs": [
    {
     "data": {
      "text/plain": [
       "<AxesSubplot:xlabel='Fare', ylabel='Density'>"
      ]
     },
     "execution_count": 27,
     "metadata": {},
     "output_type": "execute_result"
    },
    {
     "data": {
      "image/png": "[encoded data removed]",
      "text/plain": [
       "<Figure size 1152x576 with 1 Axes>"
      ]
     },
     "metadata": {
      "needs_background": "light"
     },
     "output_type": "display_data"
    }
   ],
   "source": [
    "#Fare\n",
    "df[\"Fare\"]=df[\"Fare\"].fillna(df[\"Fare\"].median())\n",
    "plt.figure(figsize=(16,8))\n",
    "sns.distplot(df[\"Fare\"])"
   ]
  },
  {
   "cell_type": "code",
   "execution_count": 28,
   "metadata": {
    "colab": {
     "base_uri": "https://localhost:8080/",
     "height": 515
    },
    "execution": {
     "iopub.execute_input": "2022-01-25T10:33:03.841187Z",
     "iopub.status.busy": "2022-01-25T10:33:03.840667Z",
     "iopub.status.idle": "2022-01-25T10:33:04.181255Z",
     "shell.execute_reply": "2022-01-25T10:33:04.180517Z",
     "shell.execute_reply.started": "2022-01-25T10:33:03.841136Z"
    },
    "id": "CnsilxGeb5sU",
    "outputId": "029b4d67-82cd-47d7-f5aa-43376e7492fc"
   },
   "outputs": [
    {
     "data": {
      "text/plain": [
       "<AxesSubplot:xlabel='Fare', ylabel='Density'>"
      ]
     },
     "execution_count": 28,
     "metadata": {},
     "output_type": "execute_result"
    },
    {
     "data": {
      "image/png": "[encoded data removed]",
      "text/plain": [
       "<Figure size 1152x576 with 1 Axes>"
      ]
     },
     "metadata": {
      "needs_background": "light"
     },
     "output_type": "display_data"
    }
   ],
   "source": [
    "#Apply log to Fare distribution\n",
    "df[\"Fare\"]= df[\"Fare\"].map(lambda i : np.log(i) if i>0 else 0)\n",
    "plt.figure(figsize=(16,8))\n",
    "sns.distplot(df[\"Fare\"])"
   ]
  },
  {
   "cell_type": "code",
   "execution_count": 29,
   "metadata": {
    "colab": {
     "base_uri": "https://localhost:8080/",
     "height": 405
    },
    "execution": {
     "iopub.execute_input": "2022-01-25T10:33:04.428951Z",
     "iopub.status.busy": "2022-01-25T10:33:04.428408Z",
     "iopub.status.idle": "2022-01-25T10:33:04.785443Z",
     "shell.execute_reply": "2022-01-25T10:33:04.784431Z",
     "shell.execute_reply.started": "2022-01-25T10:33:04.428913Z"
    },
    "id": "2Ur2RHJib5sW",
    "outputId": "de47927b-c1a0-49ca-83b1-79a6a8b34e85"
   },
   "outputs": [
    {
     "data": {
      "text/plain": [
       "Text(6.799999999999997, 0.5, 'Survival probability')"
      ]
     },
     "execution_count": 29,
     "metadata": {},
     "output_type": "execute_result"
    },
    {
     "data": {
      "text/plain": [
       "<Figure size 1152x576 with 0 Axes>"
      ]
     },
     "metadata": {},
     "output_type": "display_data"
    },
    {
     "data": {
      "image/png": "[encoded data removed]",
      "text/plain": [
       "<Figure size 360x360 with 1 Axes>"
      ]
     },
     "metadata": {
      "needs_background": "light"
     },
     "output_type": "display_data"
    }
   ],
   "source": [
    "#Sex\n",
    "plt.figure(figsize=(16,8))\n",
    "sns.factorplot(x=\"Sex\",y=\"Survived\", data=df, kind=\"bar\")\n",
    "plt.ylabel(\"Survival probability\")"
   ]
  },
  {
   "cell_type": "code",
   "execution_count": 30,
   "metadata": {
    "id": "10Bl8TC5dETk"
   },
   "outputs": [],
   "source": [
    "#Convert sex into categorical\n",
    "df[\"Sex\"] = df[\"Sex\"].map({\"male\": 0, \"female\":1})"
   ]
  },
  {
   "cell_type": "code",
   "execution_count": 31,
   "metadata": {
    "colab": {
     "base_uri": "https://localhost:8080/",
     "height": 405
    },
    "execution": {
     "iopub.execute_input": "2022-01-25T10:33:04.960658Z",
     "iopub.status.busy": "2022-01-25T10:33:04.959695Z",
     "iopub.status.idle": "2022-01-25T10:33:05.352706Z",
     "shell.execute_reply": "2022-01-25T10:33:05.351728Z",
     "shell.execute_reply.started": "2022-01-25T10:33:04.960595Z"
    },
    "id": "7P58-OCnb5sW",
    "outputId": "94776ba4-3473-4b9a-c83d-fc8faa4e4c1d"
   },
   "outputs": [
    {
     "data": {
      "text/plain": [
       "Text(6.799999999999997, 0.5, 'Survival probability')"
      ]
     },
     "execution_count": 31,
     "metadata": {},
     "output_type": "execute_result"
    },
    {
     "data": {
      "text/plain": [
       "<Figure size 1152x576 with 0 Axes>"
      ]
     },
     "metadata": {},
     "output_type": "display_data"
    },
    {
     "data": {
      "image/png": "[encoded data removed]",
      "text/plain": [
       "<Figure size 360x360 with 1 Axes>"
      ]
     },
     "metadata": {
      "needs_background": "light"
     },
     "output_type": "display_data"
    }
   ],
   "source": [
    "#Pclass\n",
    "plt.figure(figsize=(16,8))\n",
    "sns.factorplot(x=\"Pclass\",y=\"Survived\", data=df, kind=\"bar\")\n",
    "plt.ylabel(\"Survival probability\")"
   ]
  },
  {
   "cell_type": "code",
   "execution_count": 32,
   "metadata": {
    "colab": {
     "base_uri": "https://localhost:8080/",
     "height": 405
    },
    "execution": {
     "iopub.execute_input": "2022-01-25T10:33:05.504264Z",
     "iopub.status.busy": "2022-01-25T10:33:05.503602Z",
     "iopub.status.idle": "2022-01-25T10:33:06.078695Z",
     "shell.execute_reply": "2022-01-25T10:33:06.077801Z",
     "shell.execute_reply.started": "2022-01-25T10:33:05.504216Z"
    },
    "id": "PNniCDqZb5sX",
    "outputId": "ddd81bca-2cff-48d7-f271-7aecd0d3905d"
   },
   "outputs": [
    {
     "data": {
      "text/plain": [
       "Text(10.778541666666662, 0.5, 'Survival probability')"
      ]
     },
     "execution_count": 32,
     "metadata": {},
     "output_type": "execute_result"
    },
    {
     "data": {
      "text/plain": [
       "<Figure size 1152x576 with 0 Axes>"
      ]
     },
     "metadata": {},
     "output_type": "display_data"
    },
    {
     "data": {
      "image/png": "[encoded data removed]",
      "text/plain": [
       "<Figure size 402.375x360 with 1 Axes>"
      ]
     },
     "metadata": {
      "needs_background": "light"
     },
     "output_type": "display_data"
    }
   ],
   "source": [
    "#Pclass and survived by sex\n",
    "plt.figure(figsize=(16,8))\n",
    "sns.factorplot(x=\"Pclass\",y=\"Survived\", hue=\"Sex\", data=df, kind=\"bar\")\n",
    "plt.ylabel(\"Survival probability\")"
   ]
  },
  {
   "cell_type": "code",
   "execution_count": 33,
   "metadata": {
    "execution": {
     "iopub.execute_input": "2022-01-25T10:33:06.576615Z",
     "iopub.status.busy": "2022-01-25T10:33:06.576290Z",
     "iopub.status.idle": "2022-01-25T10:33:06.583654Z",
     "shell.execute_reply": "2022-01-25T10:33:06.582980Z",
     "shell.execute_reply.started": "2022-01-25T10:33:06.576558Z"
    },
    "id": "x0bGXE53b5sY",
    "outputId": "5b850b65-a3f9-45c5-ba09-762e7795a818"
   },
   "outputs": [
    {
     "data": {
      "text/plain": [
       "2"
      ]
     },
     "execution_count": 33,
     "metadata": {},
     "output_type": "execute_result"
    }
   ],
   "source": [
    "#Embarked\n",
    "df[\"Embarked\"].isnull().sum()"
   ]
  },
  {
   "cell_type": "code",
   "execution_count": 34,
   "metadata": {
    "execution": {
     "iopub.execute_input": "2022-01-25T10:33:09.089808Z",
     "iopub.status.busy": "2022-01-25T10:33:09.089332Z",
     "iopub.status.idle": "2022-01-25T10:33:09.097617Z",
     "shell.execute_reply": "2022-01-25T10:33:09.096874Z",
     "shell.execute_reply.started": "2022-01-25T10:33:09.089764Z"
    },
    "id": "5MWIz28Yb5sZ",
    "outputId": "baa55c80-5654-408d-e4be-3a25984c778b"
   },
   "outputs": [
    {
     "data": {
      "text/plain": [
       "S    637\n",
       "C    165\n",
       "Q     77\n",
       "Name: Embarked, dtype: int64"
      ]
     },
     "execution_count": 34,
     "metadata": {},
     "output_type": "execute_result"
    }
   ],
   "source": [
    "df[\"Embarked\"].value_counts()"
   ]
  },
  {
   "cell_type": "code",
   "execution_count": 35,
   "metadata": {
    "execution": {
     "iopub.execute_input": "2022-01-25T10:33:09.618124Z",
     "iopub.status.busy": "2022-01-25T10:33:09.617846Z",
     "iopub.status.idle": "2022-01-25T10:33:09.623883Z",
     "shell.execute_reply": "2022-01-25T10:33:09.622860Z",
     "shell.execute_reply.started": "2022-01-25T10:33:09.618093Z"
    },
    "id": "dTpI8m3Xb5sZ"
   },
   "outputs": [],
   "source": [
    "#Embarked\n",
    "df[\"Embarked\"]=df[\"Embarked\"].fillna(\"S\")"
   ]
  },
  {
   "cell_type": "code",
   "execution_count": 36,
   "metadata": {
    "execution": {
     "iopub.execute_input": "2022-01-25T10:33:10.263826Z",
     "iopub.status.busy": "2022-01-25T10:33:10.263512Z",
     "iopub.status.idle": "2022-01-25T10:33:10.632612Z",
     "shell.execute_reply": "2022-01-25T10:33:10.631832Z",
     "shell.execute_reply.started": "2022-01-25T10:33:10.263787Z"
    },
    "id": "4323Sxw2b5sa",
    "outputId": "14dcf863-8a60-4045-bd74-7180d00f72df"
   },
   "outputs": [
    {
     "data": {
      "text/plain": [
       "Text(6.799999999999997, 0.5, 'Survival probability')"
      ]
     },
     "execution_count": 36,
     "metadata": {},
     "output_type": "execute_result"
    },
    {
     "data": {
      "text/plain": [
       "<Figure size 1152x576 with 0 Axes>"
      ]
     },
     "metadata": {},
     "output_type": "display_data"
    },
    {
     "data": {
      "image/png": "[encoded data removed]",
      "text/plain": [
       "<Figure size 360x360 with 1 Axes>"
      ]
     },
     "metadata": {
      "needs_background": "light"
     },
     "output_type": "display_data"
    }
   ],
   "source": [
    "plt.figure(figsize=(16,8))\n",
    "sns.factorplot(x=\"Embarked\",y=\"Survived\", data=df, kind=\"bar\")\n",
    "plt.ylabel(\"Survival probability\")"
   ]
  },
  {
   "cell_type": "code",
   "execution_count": 37,
   "metadata": {
    "execution": {
     "iopub.execute_input": "2022-01-25T10:33:10.840475Z",
     "iopub.status.busy": "2022-01-25T10:33:10.839683Z",
     "iopub.status.idle": "2022-01-25T10:33:10.854031Z",
     "shell.execute_reply": "2022-01-25T10:33:10.853235Z",
     "shell.execute_reply.started": "2022-01-25T10:33:10.840427Z"
    },
    "id": "aX4i3hXfb5sa"
   },
   "outputs": [],
   "source": [
    "#Dummies variables \"Embarked\" and \"Pclass\"\n",
    "df = pd.get_dummies(df, columns=['Embarked','Pclass'])"
   ]
  },
  {
   "cell_type": "code",
   "execution_count": 38,
   "metadata": {},
   "outputs": [],
   "source": [
    "df[\"Family members\"]= df[\"SibSp\"]+df[\"Parch\"]+1"
   ]
  },
  {
   "cell_type": "code",
   "execution_count": 39,
   "metadata": {
    "execution": {
     "iopub.execute_input": "2022-01-25T10:33:17.379265Z",
     "iopub.status.busy": "2022-01-25T10:33:17.378956Z",
     "iopub.status.idle": "2022-01-25T10:33:17.387974Z",
     "shell.execute_reply": "2022-01-25T10:33:17.387048Z",
     "shell.execute_reply.started": "2022-01-25T10:33:17.379224Z"
    },
    "id": "DVP-8OxZb5sf",
    "outputId": "6c2fda5e-1389-4309-d241-90898796841b"
   },
   "outputs": [
    {
     "data": {
      "text/plain": [
       "0                              Braund, Mr. Owen Harris\n",
       "1    Cumings, Mrs. John Bradley (Florence Briggs Th...\n",
       "2                               Heikkinen, Miss. Laina\n",
       "3         Futrelle, Mrs. Jacques Heath (Lily May Peel)\n",
       "4                             Allen, Mr. William Henry\n",
       "Name: Name, dtype: object"
      ]
     },
     "execution_count": 39,
     "metadata": {},
     "output_type": "execute_result"
    }
   ],
   "source": [
    "#Name\n",
    "df[\"Name\"].head()"
   ]
  },
  {
   "cell_type": "code",
   "execution_count": 40,
   "metadata": {
    "execution": {
     "iopub.execute_input": "2022-01-25T10:33:18.392184Z",
     "iopub.status.busy": "2022-01-25T10:33:18.391842Z",
     "iopub.status.idle": "2022-01-25T10:33:18.403460Z",
     "shell.execute_reply": "2022-01-25T10:33:18.402755Z",
     "shell.execute_reply.started": "2022-01-25T10:33:18.392147Z"
    },
    "id": "oSVCYzrwb5sf",
    "outputId": "07a87559-6859-4711-ba9f-ceca4c30d15a"
   },
   "outputs": [
    {
     "data": {
      "text/plain": [
       "0      Mr\n",
       "1     Mrs\n",
       "2    Miss\n",
       "3     Mrs\n",
       "4      Mr\n",
       "Name: Title, dtype: object"
      ]
     },
     "execution_count": 40,
     "metadata": {},
     "output_type": "execute_result"
    }
   ],
   "source": [
    "# Get Title from Name\n",
    "df_title = [i.split(\",\")[1].split(\".\")[0].strip() for i in df[\"Name\"]]\n",
    "df[\"Title\"] = pd.Series(df_title)\n",
    "df[\"Title\"].head()"
   ]
  },
  {
   "cell_type": "code",
   "execution_count": 41,
   "metadata": {
    "execution": {
     "iopub.execute_input": "2022-01-25T10:33:19.121111Z",
     "iopub.status.busy": "2022-01-25T10:33:19.120409Z",
     "iopub.status.idle": "2022-01-25T10:33:19.456530Z",
     "shell.execute_reply": "2022-01-25T10:33:19.455850Z",
     "shell.execute_reply.started": "2022-01-25T10:33:19.121062Z"
    },
    "id": "TkmpK8SWb5sf",
    "outputId": "92c78830-ef37-4b3b-b71e-79ed3f096e6a"
   },
   "outputs": [
    {
     "data": {
      "text/plain": [
       "<AxesSubplot:xlabel='Title', ylabel='count'>"
      ]
     },
     "execution_count": 41,
     "metadata": {},
     "output_type": "execute_result"
    },
    {
     "data": {
      "image/png": "[encoded data removed]",
      "text/plain": [
       "<Figure size 1152x576 with 1 Axes>"
      ]
     },
     "metadata": {
      "needs_background": "light"
     },
     "output_type": "display_data"
    }
   ],
   "source": [
    "plt.figure(figsize=(16,8))\n",
    "sns.countplot(x=\"Title\",data=df)"
   ]
  },
  {
   "cell_type": "code",
   "execution_count": 42,
   "metadata": {
    "execution": {
     "iopub.execute_input": "2022-01-25T10:33:19.820485Z",
     "iopub.status.busy": "2022-01-25T10:33:19.820070Z",
     "iopub.status.idle": "2022-01-25T10:33:19.832983Z",
     "shell.execute_reply": "2022-01-25T10:33:19.832145Z",
     "shell.execute_reply.started": "2022-01-25T10:33:19.820452Z"
    },
    "id": "aMaCO0fMb5sg",
    "outputId": "64b2716a-0a55-45ac-80b1-3fed9d01e72a"
   },
   "outputs": [
    {
     "data": {
      "text/plain": [
       "Mr         505\n",
       "Miss       305\n",
       "Master      44\n",
       "Officer     12\n",
       "Royalty      5\n",
       "Name: Title, dtype: int64"
      ]
     },
     "execution_count": 42,
     "metadata": {},
     "output_type": "execute_result"
    }
   ],
   "source": [
    "#Group rare title \n",
    "df[\"Title\"] = df[\"Title\"].replace(['Capt', 'Col', 'Major', 'Dr'], 'Officer')\n",
    "df[\"Title\"] = df[\"Title\"].replace(['Don', 'Sir', 'the Countess', 'Dona', 'Lady','Jonkheer'], 'Royalty')\n",
    "df[\"Title\"] = df[\"Title\"].replace(['Mme', 'Ms', 'Mrs','Mlle'], 'Miss')\n",
    "df[\"Title\"] = df[\"Title\"].replace(['Master','Rev'], 'Master')\n",
    "df[\"Title\"].value_counts()"
   ]
  },
  {
   "cell_type": "code",
   "execution_count": 43,
   "metadata": {
    "execution": {
     "iopub.execute_input": "2022-01-25T10:33:21.410385Z",
     "iopub.status.busy": "2022-01-25T10:33:21.409790Z",
     "iopub.status.idle": "2022-01-25T10:33:21.419940Z",
     "shell.execute_reply": "2022-01-25T10:33:21.419368Z",
     "shell.execute_reply.started": "2022-01-25T10:33:21.410351Z"
    },
    "id": "Sd-Hfklwb5sg",
    "outputId": "1f48b5ec-1ae8-4fe4-9fc0-a093dd54b9c4"
   },
   "outputs": [],
   "source": [
    "#Dummies variables \"Title\" \n",
    "df = pd.get_dummies(df, columns=['Title'])"
   ]
  },
  {
   "cell_type": "code",
   "execution_count": 44,
   "metadata": {
    "execution": {
     "iopub.execute_input": "2022-01-25T10:33:22.734666Z",
     "iopub.status.busy": "2022-01-25T10:33:22.734317Z",
     "iopub.status.idle": "2022-01-25T10:33:22.741495Z",
     "shell.execute_reply": "2022-01-25T10:33:22.740858Z",
     "shell.execute_reply.started": "2022-01-25T10:33:22.734632Z"
    },
    "id": "lixUGp26b5sh"
   },
   "outputs": [],
   "source": [
    "df['Ticket_Frequency'] = df.groupby('Ticket')['Ticket'].transform('count')"
   ]
  },
  {
   "cell_type": "code",
   "execution_count": 45,
   "metadata": {
    "execution": {
     "iopub.execute_input": "2022-01-25T10:33:23.442453Z",
     "iopub.status.busy": "2022-01-25T10:33:23.442115Z",
     "iopub.status.idle": "2022-01-25T10:33:23.451522Z",
     "shell.execute_reply": "2022-01-25T10:33:23.450798Z",
     "shell.execute_reply.started": "2022-01-25T10:33:23.442421Z"
    },
    "id": "qxQT-xYLb5sh"
   },
   "outputs": [],
   "source": [
    "df['Surname'] = df['Name'].map(lambda i: i.split(',')[0])"
   ]
  },
  {
   "cell_type": "code",
   "execution_count": 46,
   "metadata": {
    "id": "zzo0KTuSb5sh"
   },
   "outputs": [],
   "source": [
    "df['Family_Survival'] = 0.385\n",
    "\n",
    "'''\n",
    "Check for all the people with families as to how many people survived from that family\n",
    "This is their average survival rate..  sr = (survived / total family members)\n",
    "'''\n",
    "for gid, gdf in df.groupby('Surname'):\n",
    "    if len(gdf) > 1:\n",
    "        for i, r in gdf.iterrows():\n",
    "            fam = gdf.drop(i)\n",
    "            sur = list(fam['Survived'])\n",
    "            ans = np.nanmean(sur)\n",
    "            if not math.isnan(ans):\n",
    "                df.loc[df['PassengerId'] == r['PassengerId'], 'Family_Survival'] = ans\n",
    "\n",
    "                \n",
    "# We do the same as above except in this case it is with ticket frequency, number of people having the same ticket  \n",
    "df['Ticket_Survival'] = 0.385\n",
    "\n",
    "for gid, gdf in df.groupby('Ticket'):\n",
    "    if len(gdf) > 1:\n",
    "        for i, r in gdf.iterrows():\n",
    "            fam = gdf.drop(i)\n",
    "            sur = list(fam['Survived'])\n",
    "            ans = np.nanmean(sur)\n",
    "            if not math.isnan(ans):\n",
    "                df.loc[df['PassengerId'] == r['PassengerId'], 'Ticket_Survival'] = ans\n",
    "\n",
    "'''\n",
    "Average survival rate of a particular person \n",
    "based on their family survival rate and their ticket survival rate\n",
    "'''\n",
    "num = (df[\"Family members\"] * df['Family_Survival']) + (df['Ticket_Frequency'] * df['Ticket_Survival'])\n",
    "den = df['Family members'] + df['Ticket_Frequency']\n",
    "df['Survival'] = num / den"
   ]
  },
  {
   "cell_type": "code",
   "execution_count": 47,
   "metadata": {},
   "outputs": [],
   "source": [
    "df.drop(labels = [\"Name\",\"PassengerId\",\"Age\",\"Ticket\",\"Ticket_Frequency\",\"Family_Survival\",\"Ticket_Survival\",\"Surname\",\"Parch\",\"SibSp\"], axis = 1, inplace = True)"
   ]
  },
  {
   "cell_type": "code",
   "execution_count": 48,
   "metadata": {},
   "outputs": [],
   "source": [
    "scaler= StandardScaler()\n",
    "df[['Family members','Fare']] = scaler.fit_transform(df[['Family members','Fare']])"
   ]
  },
  {
   "cell_type": "code",
   "execution_count": 49,
   "metadata": {
    "execution": {
     "iopub.execute_input": "2022-01-25T10:33:24.478896Z",
     "iopub.status.busy": "2022-01-25T10:33:24.478517Z",
     "iopub.status.idle": "2022-01-25T10:33:24.507424Z",
     "shell.execute_reply": "2022-01-25T10:33:24.506604Z",
     "shell.execute_reply.started": "2022-01-25T10:33:24.478858Z"
    },
    "id": "BkLSttyeb5sh",
    "outputId": "3bdc794b-caee-4d81-d41b-933e561d492a"
   },
   "outputs": [
    {
     "data": {
      "text/html": [
       "<div>\n",
       "<style scoped>\n",
       "    .dataframe tbody tr th:only-of-type {\n",
       "        vertical-align: middle;\n",
       "    }\n",
       "\n",
       "    .dataframe tbody tr th {\n",
       "        vertical-align: top;\n",
       "    }\n",
       "\n",
       "    .dataframe thead th {\n",
       "        text-align: right;\n",
       "    }\n",
       "</style>\n",
       "<table border=\"1\" class=\"dataframe\">\n",
       "  <thead>\n",
       "    <tr style=\"text-align: right;\">\n",
       "      <th></th>\n",
       "      <th>Survived</th>\n",
       "      <th>Sex</th>\n",
       "      <th>Fare</th>\n",
       "      <th>Cabin_ABC</th>\n",
       "      <th>Cabin_DE</th>\n",
       "      <th>Cabin_FG</th>\n",
       "      <th>Cabin_X</th>\n",
       "      <th>Age Group_Adult</th>\n",
       "      <th>Age Group_Baby</th>\n",
       "      <th>Age Group_Child</th>\n",
       "      <th>...</th>\n",
       "      <th>Pclass_1</th>\n",
       "      <th>Pclass_2</th>\n",
       "      <th>Pclass_3</th>\n",
       "      <th>Family members</th>\n",
       "      <th>Title_Master</th>\n",
       "      <th>Title_Miss</th>\n",
       "      <th>Title_Mr</th>\n",
       "      <th>Title_Officer</th>\n",
       "      <th>Title_Royalty</th>\n",
       "      <th>Survival</th>\n",
       "    </tr>\n",
       "  </thead>\n",
       "  <tbody>\n",
       "    <tr>\n",
       "      <th>0</th>\n",
       "      <td>0</td>\n",
       "      <td>0</td>\n",
       "      <td>-0.907670</td>\n",
       "      <td>0</td>\n",
       "      <td>0</td>\n",
       "      <td>0</td>\n",
       "      <td>1</td>\n",
       "      <td>1</td>\n",
       "      <td>0</td>\n",
       "      <td>0</td>\n",
       "      <td>...</td>\n",
       "      <td>0</td>\n",
       "      <td>0</td>\n",
       "      <td>1</td>\n",
       "      <td>0.118199</td>\n",
       "      <td>0</td>\n",
       "      <td>0</td>\n",
       "      <td>1</td>\n",
       "      <td>0</td>\n",
       "      <td>0</td>\n",
       "      <td>0.128333</td>\n",
       "    </tr>\n",
       "    <tr>\n",
       "      <th>1</th>\n",
       "      <td>1</td>\n",
       "      <td>1</td>\n",
       "      <td>1.421429</td>\n",
       "      <td>1</td>\n",
       "      <td>0</td>\n",
       "      <td>0</td>\n",
       "      <td>0</td>\n",
       "      <td>1</td>\n",
       "      <td>0</td>\n",
       "      <td>0</td>\n",
       "      <td>...</td>\n",
       "      <td>1</td>\n",
       "      <td>0</td>\n",
       "      <td>0</td>\n",
       "      <td>0.118199</td>\n",
       "      <td>0</td>\n",
       "      <td>1</td>\n",
       "      <td>0</td>\n",
       "      <td>0</td>\n",
       "      <td>0</td>\n",
       "      <td>0.385000</td>\n",
       "    </tr>\n",
       "    <tr>\n",
       "      <th>2</th>\n",
       "      <td>1</td>\n",
       "      <td>1</td>\n",
       "      <td>-0.816958</td>\n",
       "      <td>0</td>\n",
       "      <td>0</td>\n",
       "      <td>0</td>\n",
       "      <td>1</td>\n",
       "      <td>1</td>\n",
       "      <td>0</td>\n",
       "      <td>0</td>\n",
       "      <td>...</td>\n",
       "      <td>0</td>\n",
       "      <td>0</td>\n",
       "      <td>1</td>\n",
       "      <td>-0.595045</td>\n",
       "      <td>0</td>\n",
       "      <td>1</td>\n",
       "      <td>0</td>\n",
       "      <td>0</td>\n",
       "      <td>0</td>\n",
       "      <td>0.385000</td>\n",
       "    </tr>\n",
       "    <tr>\n",
       "      <th>3</th>\n",
       "      <td>1</td>\n",
       "      <td>1</td>\n",
       "      <td>1.121347</td>\n",
       "      <td>1</td>\n",
       "      <td>0</td>\n",
       "      <td>0</td>\n",
       "      <td>0</td>\n",
       "      <td>1</td>\n",
       "      <td>0</td>\n",
       "      <td>0</td>\n",
       "      <td>...</td>\n",
       "      <td>1</td>\n",
       "      <td>0</td>\n",
       "      <td>0</td>\n",
       "      <td>0.118199</td>\n",
       "      <td>0</td>\n",
       "      <td>1</td>\n",
       "      <td>0</td>\n",
       "      <td>0</td>\n",
       "      <td>0</td>\n",
       "      <td>0.000000</td>\n",
       "    </tr>\n",
       "    <tr>\n",
       "      <th>4</th>\n",
       "      <td>0</td>\n",
       "      <td>0</td>\n",
       "      <td>-0.801010</td>\n",
       "      <td>0</td>\n",
       "      <td>0</td>\n",
       "      <td>0</td>\n",
       "      <td>1</td>\n",
       "      <td>1</td>\n",
       "      <td>0</td>\n",
       "      <td>0</td>\n",
       "      <td>...</td>\n",
       "      <td>0</td>\n",
       "      <td>0</td>\n",
       "      <td>1</td>\n",
       "      <td>-0.595045</td>\n",
       "      <td>0</td>\n",
       "      <td>0</td>\n",
       "      <td>1</td>\n",
       "      <td>0</td>\n",
       "      <td>0</td>\n",
       "      <td>0.692500</td>\n",
       "    </tr>\n",
       "    <tr>\n",
       "      <th>...</th>\n",
       "      <td>...</td>\n",
       "      <td>...</td>\n",
       "      <td>...</td>\n",
       "      <td>...</td>\n",
       "      <td>...</td>\n",
       "      <td>...</td>\n",
       "      <td>...</td>\n",
       "      <td>...</td>\n",
       "      <td>...</td>\n",
       "      <td>...</td>\n",
       "      <td>...</td>\n",
       "      <td>...</td>\n",
       "      <td>...</td>\n",
       "      <td>...</td>\n",
       "      <td>...</td>\n",
       "      <td>...</td>\n",
       "      <td>...</td>\n",
       "      <td>...</td>\n",
       "      <td>...</td>\n",
       "      <td>...</td>\n",
       "      <td>...</td>\n",
       "    </tr>\n",
       "    <tr>\n",
       "      <th>886</th>\n",
       "      <td>0</td>\n",
       "      <td>0</td>\n",
       "      <td>-0.312624</td>\n",
       "      <td>0</td>\n",
       "      <td>0</td>\n",
       "      <td>0</td>\n",
       "      <td>1</td>\n",
       "      <td>1</td>\n",
       "      <td>0</td>\n",
       "      <td>0</td>\n",
       "      <td>...</td>\n",
       "      <td>0</td>\n",
       "      <td>1</td>\n",
       "      <td>0</td>\n",
       "      <td>-0.595045</td>\n",
       "      <td>0</td>\n",
       "      <td>0</td>\n",
       "      <td>0</td>\n",
       "      <td>0</td>\n",
       "      <td>0</td>\n",
       "      <td>0.385000</td>\n",
       "    </tr>\n",
       "    <tr>\n",
       "      <th>887</th>\n",
       "      <td>1</td>\n",
       "      <td>1</td>\n",
       "      <td>0.539516</td>\n",
       "      <td>1</td>\n",
       "      <td>0</td>\n",
       "      <td>0</td>\n",
       "      <td>0</td>\n",
       "      <td>0</td>\n",
       "      <td>0</td>\n",
       "      <td>0</td>\n",
       "      <td>...</td>\n",
       "      <td>1</td>\n",
       "      <td>0</td>\n",
       "      <td>0</td>\n",
       "      <td>-0.595045</td>\n",
       "      <td>0</td>\n",
       "      <td>0</td>\n",
       "      <td>0</td>\n",
       "      <td>0</td>\n",
       "      <td>0</td>\n",
       "      <td>0.442500</td>\n",
       "    </tr>\n",
       "    <tr>\n",
       "      <th>888</th>\n",
       "      <td>0</td>\n",
       "      <td>1</td>\n",
       "      <td>0.288508</td>\n",
       "      <td>0</td>\n",
       "      <td>0</td>\n",
       "      <td>0</td>\n",
       "      <td>1</td>\n",
       "      <td>1</td>\n",
       "      <td>0</td>\n",
       "      <td>0</td>\n",
       "      <td>...</td>\n",
       "      <td>0</td>\n",
       "      <td>0</td>\n",
       "      <td>1</td>\n",
       "      <td>1.544689</td>\n",
       "      <td>0</td>\n",
       "      <td>0</td>\n",
       "      <td>0</td>\n",
       "      <td>0</td>\n",
       "      <td>0</td>\n",
       "      <td>0.000000</td>\n",
       "    </tr>\n",
       "    <tr>\n",
       "      <th>889</th>\n",
       "      <td>1</td>\n",
       "      <td>0</td>\n",
       "      <td>0.539516</td>\n",
       "      <td>1</td>\n",
       "      <td>0</td>\n",
       "      <td>0</td>\n",
       "      <td>0</td>\n",
       "      <td>1</td>\n",
       "      <td>0</td>\n",
       "      <td>0</td>\n",
       "      <td>...</td>\n",
       "      <td>1</td>\n",
       "      <td>0</td>\n",
       "      <td>0</td>\n",
       "      <td>-0.595045</td>\n",
       "      <td>0</td>\n",
       "      <td>0</td>\n",
       "      <td>0</td>\n",
       "      <td>0</td>\n",
       "      <td>0</td>\n",
       "      <td>0.385000</td>\n",
       "    </tr>\n",
       "    <tr>\n",
       "      <th>890</th>\n",
       "      <td>0</td>\n",
       "      <td>0</td>\n",
       "      <td>-0.839711</td>\n",
       "      <td>0</td>\n",
       "      <td>0</td>\n",
       "      <td>0</td>\n",
       "      <td>1</td>\n",
       "      <td>1</td>\n",
       "      <td>0</td>\n",
       "      <td>0</td>\n",
       "      <td>...</td>\n",
       "      <td>0</td>\n",
       "      <td>0</td>\n",
       "      <td>1</td>\n",
       "      <td>-0.595045</td>\n",
       "      <td>0</td>\n",
       "      <td>0</td>\n",
       "      <td>0</td>\n",
       "      <td>0</td>\n",
       "      <td>0</td>\n",
       "      <td>0.385000</td>\n",
       "    </tr>\n",
       "  </tbody>\n",
       "</table>\n",
       "<p>881 rows × 25 columns</p>\n",
       "</div>"
      ],
      "text/plain": [
       "     Survived  Sex      Fare  Cabin_ABC  Cabin_DE  Cabin_FG  Cabin_X  \\\n",
       "0           0    0 -0.907670          0         0         0        1   \n",
       "1           1    1  1.421429          1         0         0        0   \n",
       "2           1    1 -0.816958          0         0         0        1   \n",
       "3           1    1  1.121347          1         0         0        0   \n",
       "4           0    0 -0.801010          0         0         0        1   \n",
       "..        ...  ...       ...        ...       ...       ...      ...   \n",
       "886         0    0 -0.312624          0         0         0        1   \n",
       "887         1    1  0.539516          1         0         0        0   \n",
       "888         0    1  0.288508          0         0         0        1   \n",
       "889         1    0  0.539516          1         0         0        0   \n",
       "890         0    0 -0.839711          0         0         0        1   \n",
       "\n",
       "     Age Group_Adult  Age Group_Baby  Age Group_Child  ...  Pclass_1  \\\n",
       "0                  1               0                0  ...         0   \n",
       "1                  1               0                0  ...         1   \n",
       "2                  1               0                0  ...         0   \n",
       "3                  1               0                0  ...         1   \n",
       "4                  1               0                0  ...         0   \n",
       "..               ...             ...              ...  ...       ...   \n",
       "886                1               0                0  ...         0   \n",
       "887                0               0                0  ...         1   \n",
       "888                1               0                0  ...         0   \n",
       "889                1               0                0  ...         1   \n",
       "890                1               0                0  ...         0   \n",
       "\n",
       "     Pclass_2  Pclass_3  Family members  Title_Master  Title_Miss  Title_Mr  \\\n",
       "0           0         1        0.118199             0           0         1   \n",
       "1           0         0        0.118199             0           1         0   \n",
       "2           0         1       -0.595045             0           1         0   \n",
       "3           0         0        0.118199             0           1         0   \n",
       "4           0         1       -0.595045             0           0         1   \n",
       "..        ...       ...             ...           ...         ...       ...   \n",
       "886         1         0       -0.595045             0           0         0   \n",
       "887         0         0       -0.595045             0           0         0   \n",
       "888         0         1        1.544689             0           0         0   \n",
       "889         0         0       -0.595045             0           0         0   \n",
       "890         0         1       -0.595045             0           0         0   \n",
       "\n",
       "     Title_Officer  Title_Royalty  Survival  \n",
       "0                0              0  0.128333  \n",
       "1                0              0  0.385000  \n",
       "2                0              0  0.385000  \n",
       "3                0              0  0.000000  \n",
       "4                0              0  0.692500  \n",
       "..             ...            ...       ...  \n",
       "886              0              0  0.385000  \n",
       "887              0              0  0.442500  \n",
       "888              0              0  0.000000  \n",
       "889              0              0  0.385000  \n",
       "890              0              0  0.385000  \n",
       "\n",
       "[881 rows x 25 columns]"
      ]
     },
     "execution_count": 49,
     "metadata": {},
     "output_type": "execute_result"
    }
   ],
   "source": [
    "pd.get_option(\"display.max_columns\",None)\n",
    "df"
   ]
  },
  {
   "cell_type": "code",
   "execution_count": 50,
   "metadata": {},
   "outputs": [
    {
     "name": "stdout",
     "output_type": "stream",
     "text": [
      "<class 'pandas.core.frame.DataFrame'>\n",
      "Int64Index: 881 entries, 0 to 890\n",
      "Data columns (total 25 columns):\n",
      " #   Column                 Non-Null Count  Dtype  \n",
      "---  ------                 --------------  -----  \n",
      " 0   Survived               881 non-null    int64  \n",
      " 1   Sex                    881 non-null    int64  \n",
      " 2   Fare                   881 non-null    float64\n",
      " 3   Cabin_ABC              881 non-null    uint8  \n",
      " 4   Cabin_DE               881 non-null    uint8  \n",
      " 5   Cabin_FG               881 non-null    uint8  \n",
      " 6   Cabin_X                881 non-null    uint8  \n",
      " 7   Age Group_Adult        881 non-null    uint8  \n",
      " 8   Age Group_Baby         881 non-null    uint8  \n",
      " 9   Age Group_Child        881 non-null    uint8  \n",
      " 10  Age Group_Senior       881 non-null    uint8  \n",
      " 11  Age Group_Young Adult  881 non-null    uint8  \n",
      " 12  Embarked_C             881 non-null    uint8  \n",
      " 13  Embarked_Q             881 non-null    uint8  \n",
      " 14  Embarked_S             881 non-null    uint8  \n",
      " 15  Pclass_1               881 non-null    uint8  \n",
      " 16  Pclass_2               881 non-null    uint8  \n",
      " 17  Pclass_3               881 non-null    uint8  \n",
      " 18  Family members         881 non-null    float64\n",
      " 19  Title_Master           881 non-null    uint8  \n",
      " 20  Title_Miss             881 non-null    uint8  \n",
      " 21  Title_Mr               881 non-null    uint8  \n",
      " 22  Title_Officer          881 non-null    uint8  \n",
      " 23  Title_Royalty          881 non-null    uint8  \n",
      " 24  Survival               881 non-null    float64\n",
      "dtypes: float64(3), int64(2), uint8(20)\n",
      "memory usage: 90.8 KB\n"
     ]
    }
   ],
   "source": [
    "df.info()"
   ]
  },
  {
   "cell_type": "markdown",
   "metadata": {
    "id": "_8mK3xRbb5si"
   },
   "source": [
    "# **Modeling**"
   ]
  },
  {
   "cell_type": "code",
   "execution_count": 51,
   "metadata": {
    "id": "MOgJXfTTb5sj"
   },
   "outputs": [],
   "source": [
    "X= df.loc[:, df.columns != 'Survived'].values\n",
    "y= df.loc[:, df.columns == 'Survived'].values.squeeze()"
   ]
  },
  {
   "cell_type": "code",
   "execution_count": 52,
   "metadata": {
    "id": "on4UF_NQb5sj",
    "outputId": "4add59f0-823a-48f3-fee8-d1948f758934"
   },
   "outputs": [
    {
     "data": {
      "text/plain": [
       "((704, 24), (177, 24), (704,), (177,))"
      ]
     },
     "execution_count": 52,
     "metadata": {},
     "output_type": "execute_result"
    }
   ],
   "source": [
    "X_train, X_test, y_train, y_test = train_test_split(X, y, shuffle=True,test_size=0.2, stratify=y, random_state=1)\n",
    "X_train.shape, X_test.shape, y_train.shape, y_test.shape"
   ]
  },
  {
   "cell_type": "code",
   "execution_count": 53,
   "metadata": {
    "execution": {
     "iopub.execute_input": "2022-01-25T10:33:33.834731Z",
     "iopub.status.busy": "2022-01-25T10:33:33.834079Z",
     "iopub.status.idle": "2022-01-25T10:33:33.839042Z",
     "shell.execute_reply": "2022-01-25T10:33:33.838438Z",
     "shell.execute_reply.started": "2022-01-25T10:33:33.834687Z"
    },
    "id": "KpssBSPNb5sj"
   },
   "outputs": [],
   "source": [
    "score_fnc= balanced_accuracy_score\n",
    "rn=24\n",
    "kfold = StratifiedKFold(n_splits=5, random_state=rn)"
   ]
  },
  {
   "cell_type": "code",
   "execution_count": 54,
   "metadata": {
    "execution": {
     "iopub.execute_input": "2022-01-25T10:33:35.224220Z",
     "iopub.status.busy": "2022-01-25T10:33:35.223470Z",
     "iopub.status.idle": "2022-01-25T10:34:53.327065Z",
     "shell.execute_reply": "2022-01-25T10:34:53.326311Z",
     "shell.execute_reply.started": "2022-01-25T10:33:35.224175Z"
    },
    "id": "PZuIYhcub5sk",
    "outputId": "54edd8e8-14d7-4c14-c70b-df0fc8af3aa2"
   },
   "outputs": [
    {
     "name": "stdout",
     "output_type": "stream",
     "text": [
      "Fitting 5 folds for each of 250 candidates, totalling 1250 fits\n"
     ]
    },
    {
     "name": "stderr",
     "output_type": "stream",
     "text": [
      "[Parallel(n_jobs=-1)]: Using backend LokyBackend with 4 concurrent workers.\n",
      "[Parallel(n_jobs=-1)]: Done  68 tasks      | elapsed:    2.6s\n",
      "[Parallel(n_jobs=-1)]: Done 1113 tasks      | elapsed:   21.9s\n",
      "[Parallel(n_jobs=-1)]: Done 1250 out of 1250 | elapsed:   25.2s finished\n"
     ]
    },
    {
     "data": {
      "text/plain": [
       "(0.7973715773074235, {'C': 1.1106657130809137, 'degree': 3, 'kernel': 'poly'})"
      ]
     },
     "execution_count": 54,
     "metadata": {},
     "output_type": "execute_result"
    }
   ],
   "source": [
    "#SUPPORT VECTOR MACHINE\n",
    "param_grid_SVC= {'kernel':['poly'],'C': loguniform(1e-2,1e3), 'degree': [2,3,4]}\n",
    "svc = svm.SVC(class_weight=\"balanced\")\n",
    "rsSVC= RandomizedSearchCV(estimator=svc, param_distributions=param_grid_SVC, scoring=make_scorer(score_fnc),cv=kfold, n_iter=250, n_jobs=-1, verbose=1)\n",
    "rsSVC.fit(X_train,y_train)\n",
    "SVC_best = rsSVC.best_estimator_\n",
    "rsSVC.best_score_, rsSVC.best_params_"
   ]
  },
  {
   "cell_type": "code",
   "execution_count": 55,
   "metadata": {},
   "outputs": [
    {
     "name": "stderr",
     "output_type": "stream",
     "text": [
      "[Parallel(n_jobs=-1)]: Using backend LokyBackend with 4 concurrent workers.\n"
     ]
    },
    {
     "name": "stdout",
     "output_type": "stream",
     "text": [
      "Fitting 5 folds for each of 250 candidates, totalling 1250 fits\n"
     ]
    },
    {
     "name": "stderr",
     "output_type": "stream",
     "text": [
      "[Parallel(n_jobs=-1)]: Done  42 tasks      | elapsed:   16.3s\n",
      "[Parallel(n_jobs=-1)]: Done 192 tasks      | elapsed:  1.1min\n",
      "[Parallel(n_jobs=-1)]: Done 442 tasks      | elapsed:  2.4min\n",
      "[Parallel(n_jobs=-1)]: Done 792 tasks      | elapsed:  4.2min\n",
      "[Parallel(n_jobs=-1)]: Done 1242 tasks      | elapsed:  6.8min\n",
      "[Parallel(n_jobs=-1)]: Done 1250 out of 1250 | elapsed:  6.8min finished\n"
     ]
    },
    {
     "data": {
      "text/plain": [
       "(0.8144243558277239,\n",
       " {'n_estimators': 300,\n",
       "  'min_samples_split': 10,\n",
       "  'min_samples_leaf': 1,\n",
       "  'max_features': 10,\n",
       "  'max_depth': None,\n",
       "  'criterion': 'gini',\n",
       "  'bootstrap': False})"
      ]
     },
     "execution_count": 55,
     "metadata": {},
     "output_type": "execute_result"
    }
   ],
   "source": [
    "#EXTRATREE\n",
    "param_grid_ETC= {\"max_depth\": [None],\"max_features\":np.arange(1,25),\"min_samples_split\": [2,3,7,10,12],\"min_samples_leaf\": [1,3,7,10],\n",
    "              \"bootstrap\": [False,True],\"n_estimators\" :[300,400,500],\"criterion\": [\"gini\",\"entropy\"]}\n",
    "ETC = ExtraTreesClassifier(class_weight=\"balanced\")\n",
    "rsETC= RandomizedSearchCV(estimator=ETC, param_distributions=param_grid_ETC, scoring=make_scorer(score_fnc),cv=kfold, n_iter=250, n_jobs=-1, verbose=1)\n",
    "rsETC.fit(X_train,y_train)\n",
    "ETC_best = rsETC.best_estimator_\n",
    "rsETC.best_score_, rsETC.best_params_"
   ]
  },
  {
   "cell_type": "code",
   "execution_count": 56,
   "metadata": {},
   "outputs": [
    {
     "name": "stdout",
     "output_type": "stream",
     "text": [
      "Fitting 5 folds for each of 250 candidates, totalling 1250 fits\n"
     ]
    },
    {
     "name": "stderr",
     "output_type": "stream",
     "text": [
      "[Parallel(n_jobs=-1)]: Using backend LokyBackend with 4 concurrent workers.\n",
      "[Parallel(n_jobs=-1)]: Done  42 tasks      | elapsed:   13.7s\n",
      "[Parallel(n_jobs=-1)]: Done 192 tasks      | elapsed:  1.1min\n",
      "[Parallel(n_jobs=-1)]: Done 442 tasks      | elapsed:  2.3min\n",
      "[Parallel(n_jobs=-1)]: Done 792 tasks      | elapsed:  4.2min\n",
      "[Parallel(n_jobs=-1)]: Done 1242 tasks      | elapsed:  6.7min\n",
      "[Parallel(n_jobs=-1)]: Done 1250 out of 1250 | elapsed:  6.8min finished\n"
     ]
    },
    {
     "data": {
      "text/plain": [
       "(0.8225678598332969,\n",
       " {'n_estimators': 600, 'learning_rate': 0.01, 'l2_leaf_reg': 3, 'depth': 7})"
      ]
     },
     "execution_count": 56,
     "metadata": {},
     "output_type": "execute_result"
    }
   ],
   "source": [
    "#CATBOOST\n",
    "param_grid_CB= {'depth': [2,3,4,5,6,7,8],'learning_rate':[0.01, 0.05, 0.1, 0.2, 0.3, 0.4],'n_estimators':[300,400,500,600],\n",
    "               'l2_leaf_reg':[1,3,5,10,20,30]}\n",
    "CB = CatBoostClassifier(verbose=0,auto_class_weights=\"Balanced\")\n",
    "rsCB= RandomizedSearchCV(estimator=CB, param_distributions=param_grid_CB, scoring=make_scorer(score_fnc),cv=kfold, n_iter=250, n_jobs=-1, verbose=1)\n",
    "rsCB.fit(X_train,y_train)\n",
    "CB_best = rsCB.best_estimator_\n",
    "rsCB.best_score_, rsCB.best_params_"
   ]
  },
  {
   "cell_type": "code",
   "execution_count": 57,
   "metadata": {
    "execution": {
     "iopub.execute_input": "2022-01-25T10:35:04.717196Z",
     "iopub.status.busy": "2022-01-25T10:35:04.716616Z",
     "iopub.status.idle": "2022-01-25T10:44:04.988301Z",
     "shell.execute_reply": "2022-01-25T10:44:04.987325Z",
     "shell.execute_reply.started": "2022-01-25T10:35:04.717139Z"
    },
    "id": "PiRsAt2Ub5sk",
    "outputId": "301c0771-d09f-45cd-e70a-43ce05747db4"
   },
   "outputs": [
    {
     "name": "stdout",
     "output_type": "stream",
     "text": [
      "Fitting 5 folds for each of 250 candidates, totalling 1250 fits\n"
     ]
    },
    {
     "name": "stderr",
     "output_type": "stream",
     "text": [
      "[Parallel(n_jobs=-1)]: Using backend LokyBackend with 4 concurrent workers.\n",
      "[Parallel(n_jobs=-1)]: Done  42 tasks      | elapsed:   10.5s\n",
      "[Parallel(n_jobs=-1)]: Done 192 tasks      | elapsed:   51.8s\n",
      "[Parallel(n_jobs=-1)]: Done 442 tasks      | elapsed:  2.0min\n",
      "[Parallel(n_jobs=-1)]: Done 792 tasks      | elapsed:  3.4min\n",
      "[Parallel(n_jobs=-1)]: Done 1242 tasks      | elapsed:  5.4min\n",
      "[Parallel(n_jobs=-1)]: Done 1250 out of 1250 | elapsed:  5.4min finished\n"
     ]
    },
    {
     "data": {
      "text/plain": [
       "(0.8223054927786283,\n",
       " {'n_estimators': 315,\n",
       "  'min_samples_split': 6,\n",
       "  'min_samples_leaf': 3,\n",
       "  'max_features': 6,\n",
       "  'criterion': 'gini',\n",
       "  'bootstrap': 'True'})"
      ]
     },
     "execution_count": 57,
     "metadata": {},
     "output_type": "execute_result"
    }
   ],
   "source": [
    "#RANDOM FOREST\n",
    "param_grid_RF= {\"max_features\":np.arange(1,25), \"n_estimators\": np.arange(200,400,5),\"min_samples_leaf\":[1, 3, 7, 10],\n",
    "               \"criterion\":[\"gini\",\"entropy\"],\"bootstrap\":[\"True\",\"False\"],\"min_samples_split\":[2,3,4,5,6]}\n",
    "RF = RandomForestClassifier(class_weight=\"balanced\")\n",
    "rsRF= RandomizedSearchCV(estimator=RF, param_distributions=param_grid_RF , scoring=make_scorer(score_fnc), cv=kfold, n_iter=250, n_jobs=-1, verbose=1)\n",
    "rsRF.fit(X_train,y_train)\n",
    "RF_best = rsRF.best_estimator_\n",
    "rsRF.best_score_, rsRF.best_params_"
   ]
  },
  {
   "cell_type": "code",
   "execution_count": 58,
   "metadata": {
    "execution": {
     "iopub.execute_input": "2022-01-25T10:44:13.145405Z",
     "iopub.status.busy": "2022-01-25T10:44:13.144350Z",
     "iopub.status.idle": "2022-01-25T10:46:10.225890Z",
     "shell.execute_reply": "2022-01-25T10:46:10.225000Z",
     "shell.execute_reply.started": "2022-01-25T10:44:13.145360Z"
    },
    "id": "wZBwNi25b5sl",
    "outputId": "76f7a455-db60-4567-e1fd-1f3635f14309"
   },
   "outputs": [
    {
     "name": "stdout",
     "output_type": "stream",
     "text": [
      "Fitting 5 folds for each of 250 candidates, totalling 1250 fits\n"
     ]
    },
    {
     "name": "stderr",
     "output_type": "stream",
     "text": [
      "[Parallel(n_jobs=-1)]: Using backend LokyBackend with 4 concurrent workers.\n",
      "[Parallel(n_jobs=-1)]: Done  42 tasks      | elapsed:    7.2s\n",
      "[Parallel(n_jobs=-1)]: Done 192 tasks      | elapsed:   27.0s\n",
      "[Parallel(n_jobs=-1)]: Done 442 tasks      | elapsed:  1.0min\n",
      "[Parallel(n_jobs=-1)]: Done 792 tasks      | elapsed:  1.8min\n",
      "[Parallel(n_jobs=-1)]: Done 1242 tasks      | elapsed:  2.8min\n",
      "[Parallel(n_jobs=-1)]: Done 1250 out of 1250 | elapsed:  2.8min finished\n"
     ]
    },
    {
     "data": {
      "text/plain": [
       "(0.8042810354277876,\n",
       " {'n_estimators': 500,\n",
       "  'min_samples_leaf': 100,\n",
       "  'max_features': 0.3,\n",
       "  'max_depth': 4,\n",
       "  'loss': 'deviance',\n",
       "  'learning_rate': 0.1})"
      ]
     },
     "execution_count": 58,
     "metadata": {},
     "output_type": "execute_result"
    }
   ],
   "source": [
    "#GBC\n",
    "gb_param_grid = {'loss':[\"deviance\",\"exponential\"],'n_estimators' : [300,400,500],'learning_rate': [0.3,0.2, 0.1, 0.05, 0.01, 0.001],\n",
    "                 'max_depth': [2,3,4,5,6,7,8,9,10,11,12,13,14],'min_samples_leaf': [25,50,100,150,250],'max_features': [0.9,0.7,0.5,0.3]}\n",
    "GBC = GradientBoostingClassifier()\n",
    "rsGBC = RandomizedSearchCV(estimator=GBC, param_distributions=gb_param_grid , scoring=make_scorer(score_fnc), cv=kfold, n_iter=250, n_jobs=-1, verbose=1)\n",
    "rsGBC.fit(X_train,y_train)\n",
    "GBC_best = rsGBC.best_estimator_\n",
    "rsGBC.best_score_, rsGBC.best_params_"
   ]
  },
  {
   "cell_type": "code",
   "execution_count": 59,
   "metadata": {
    "execution": {
     "iopub.execute_input": "2022-01-25T10:46:16.462849Z",
     "iopub.status.busy": "2022-01-25T10:46:16.462473Z",
     "iopub.status.idle": "2022-01-25T10:46:19.739871Z",
     "shell.execute_reply": "2022-01-25T10:46:19.738963Z",
     "shell.execute_reply.started": "2022-01-25T10:46:16.462810Z"
    },
    "id": "qAgjqWKQb5sl",
    "outputId": "f681162b-bcb7-4b1a-8693-5ea45024172b"
   },
   "outputs": [
    {
     "name": "stdout",
     "output_type": "stream",
     "text": [
      "Fitting 5 folds for each of 250 candidates, totalling 1250 fits\n"
     ]
    },
    {
     "name": "stderr",
     "output_type": "stream",
     "text": [
      "[Parallel(n_jobs=-1)]: Using backend LokyBackend with 4 concurrent workers.\n",
      "[Parallel(n_jobs=-1)]: Done  42 tasks      | elapsed:    2.1s\n",
      "[Parallel(n_jobs=-1)]: Done 192 tasks      | elapsed:   12.1s\n",
      "[Parallel(n_jobs=-1)]: Done 664 tasks      | elapsed:   41.9s\n",
      "[Parallel(n_jobs=-1)]: Done 1243 out of 1250 | elapsed:  1.4min remaining:    0.4s\n",
      "[Parallel(n_jobs=-1)]: Done 1250 out of 1250 | elapsed:  1.4min finished\n"
     ]
    },
    {
     "data": {
      "text/plain": [
       "(0.8109429229477346,\n",
       " {'n_estimators': 50,\n",
       "  'learning_rate': 0.1,\n",
       "  'base_estimator__splitter': 'best',\n",
       "  'base_estimator__max_depth': 3,\n",
       "  'base_estimator__criterion': 'gini',\n",
       "  'algorithm': 'SAMME.R'})"
      ]
     },
     "execution_count": 59,
     "metadata": {},
     "output_type": "execute_result"
    }
   ],
   "source": [
    "#ADABOOST\n",
    "DTC = DecisionTreeClassifier(class_weight=\"balanced\")\n",
    "ada_param_grid = {\"base_estimator__criterion\" : [\"gini\", \"entropy\"],\"base_estimator__splitter\" : [\"best\", \"random\"],\"algorithm\" : [\"SAMME\",\"SAMME.R\"], \n",
    "                  \"base_estimator__max_depth\": np.arange(1,50), \"n_estimators\" :[40,50,60,70],\"learning_rate\": [0.0001, 0.001, 0.01, 0.1, 0.2, 0.3,1.2,1.5]}\n",
    "adaDTC = AdaBoostClassifier(DTC)\n",
    "rsADA = RandomizedSearchCV(adaDTC,param_distributions = ada_param_grid, scoring=make_scorer(score_fnc), cv=kfold, n_iter=250, n_jobs=-1, verbose=1)\n",
    "rsADA.fit(X_train,y_train)\n",
    "ADA_best = rsADA.best_estimator_\n",
    "rsADA.best_score_, rsADA.best_params_"
   ]
  },
  {
   "cell_type": "code",
   "execution_count": 61,
   "metadata": {
    "id": "oXlGN14Bb5sm",
    "outputId": "1c16846e-2e97-42f4-e1ab-bdb0c49e1271"
   },
   "outputs": [
    {
     "name": "stdout",
     "output_type": "stream",
     "text": [
      "Fitting 5 folds for each of 250 candidates, totalling 1250 fits\n"
     ]
    },
    {
     "name": "stderr",
     "output_type": "stream",
     "text": [
      "[Parallel(n_jobs=-1)]: Using backend LokyBackend with 4 concurrent workers.\n",
      "[Parallel(n_jobs=-1)]: Done  72 tasks      | elapsed:    2.1s\n",
      "[Parallel(n_jobs=-1)]: Done 1204 tasks      | elapsed:    8.8s\n",
      "[Parallel(n_jobs=-1)]: Done 1250 out of 1250 | elapsed:    9.1s finished\n"
     ]
    },
    {
     "data": {
      "text/plain": [
       "(0.7865728657869797, {'C': 0.47324302932360485, 'penalty': 'l2'})"
      ]
     },
     "execution_count": 61,
     "metadata": {},
     "output_type": "execute_result"
    }
   ],
   "source": [
    "#LOGISTIC REGRESSION\n",
    "param_grid_lr= {\"penalty\": [\"l1\",\"l2\"],'C': loguniform(1e-3,1e3)}\n",
    "LR = LogisticRegression(solver=\"liblinear\")\n",
    "rsLR= RandomizedSearchCV(estimator=LR, param_distributions=param_grid_lr , scoring=make_scorer(score_fnc), \n",
    "                                    cv=kfold, n_iter=250, verbose=1, n_jobs=-1)\n",
    "rsLR.fit(X_train,y_train)\n",
    "LR_best = rsLR.best_estimator_\n",
    "rsLR.best_score_, rsLR.best_params_"
   ]
  },
  {
   "cell_type": "code",
   "execution_count": 62,
   "metadata": {
    "execution": {
     "iopub.execute_input": "2022-01-25T17:01:56.760772Z",
     "iopub.status.busy": "2022-01-25T17:01:56.760489Z",
     "iopub.status.idle": "2022-01-25T17:01:56.779066Z",
     "shell.execute_reply": "2022-01-25T17:01:56.778418Z",
     "shell.execute_reply.started": "2022-01-25T17:01:56.760743Z"
    },
    "id": "EVaFNBFJb5sm",
    "outputId": "2ab9b37a-1be1-4d7e-8c5e-52adb3ae4cbc"
   },
   "outputs": [
    {
     "data": {
      "text/plain": [
       "(RandomForestClassifier(bootstrap='True', ccp_alpha=0.0, class_weight='balanced',\n",
       "                        criterion='gini', max_depth=None, max_features=6,\n",
       "                        max_leaf_nodes=None, max_samples=None,\n",
       "                        min_impurity_decrease=0.0, min_impurity_split=None,\n",
       "                        min_samples_leaf=3, min_samples_split=6,\n",
       "                        min_weight_fraction_leaf=0.0, n_estimators=315,\n",
       "                        n_jobs=None, oob_score=False, random_state=None,\n",
       "                        verbose=0, warm_start=False),\n",
       " GradientBoostingClassifier(ccp_alpha=0.0, criterion='friedman_mse', init=None,\n",
       "                            learning_rate=0.1, loss='deviance', max_depth=4,\n",
       "                            max_features=0.3, max_leaf_nodes=None,\n",
       "                            min_impurity_decrease=0.0, min_impurity_split=None,\n",
       "                            min_samples_leaf=100, min_samples_split=2,\n",
       "                            min_weight_fraction_leaf=0.0, n_estimators=500,\n",
       "                            n_iter_no_change=None, presort='deprecated',\n",
       "                            random_state=None, subsample=1.0, tol=0.0001,\n",
       "                            validation_fraction=0.1, verbose=0,\n",
       "                            warm_start=False),\n",
       " <catboost.core.CatBoostClassifier at 0x21ac8cb3be0>,\n",
       " AdaBoostClassifier(algorithm='SAMME.R',\n",
       "                    base_estimator=DecisionTreeClassifier(ccp_alpha=0.0,\n",
       "                                                          class_weight='balanced',\n",
       "                                                          criterion='gini',\n",
       "                                                          max_depth=3,\n",
       "                                                          max_features=None,\n",
       "                                                          max_leaf_nodes=None,\n",
       "                                                          min_impurity_decrease=0.0,\n",
       "                                                          min_impurity_split=None,\n",
       "                                                          min_samples_leaf=1,\n",
       "                                                          min_samples_split=2,\n",
       "                                                          min_weight_fraction_leaf=0.0,\n",
       "                                                          presort='deprecated',\n",
       "                                                          random_state=None,\n",
       "                                                          splitter='best'),\n",
       "                    learning_rate=0.1, n_estimators=50, random_state=None),\n",
       " ExtraTreesClassifier(bootstrap=False, ccp_alpha=0.0, class_weight='balanced',\n",
       "                      criterion='gini', max_depth=None, max_features=10,\n",
       "                      max_leaf_nodes=None, max_samples=None,\n",
       "                      min_impurity_decrease=0.0, min_impurity_split=None,\n",
       "                      min_samples_leaf=1, min_samples_split=10,\n",
       "                      min_weight_fraction_leaf=0.0, n_estimators=300,\n",
       "                      n_jobs=None, oob_score=False, random_state=None, verbose=0,\n",
       "                      warm_start=False),\n",
       " LogisticRegression(C=0.47324302932360485, class_weight=None, dual=False,\n",
       "                    fit_intercept=True, intercept_scaling=1, l1_ratio=None,\n",
       "                    max_iter=100, multi_class='auto', n_jobs=None, penalty='l2',\n",
       "                    random_state=None, solver='liblinear', tol=0.0001, verbose=0,\n",
       "                    warm_start=False),\n",
       " SVC(C=1.1106657130809137, break_ties=False, cache_size=200,\n",
       "     class_weight='balanced', coef0=0.0, decision_function_shape='ovr', degree=3,\n",
       "     gamma='scale', kernel='poly', max_iter=-1, probability=False,\n",
       "     random_state=None, shrinking=True, tol=0.001, verbose=False))"
      ]
     },
     "execution_count": 62,
     "metadata": {},
     "output_type": "execute_result"
    }
   ],
   "source": [
    "#I choose a voting classifier to combine the predictions from these models\n",
    "RF_best, GBC_best, CB_best, ADA_best, ETC_best, LR_best, SVC_best"
   ]
  },
  {
   "cell_type": "code",
   "execution_count": 63,
   "metadata": {
    "execution": {
     "iopub.execute_input": "2022-01-25T17:01:59.883833Z",
     "iopub.status.busy": "2022-01-25T17:01:59.882928Z",
     "iopub.status.idle": "2022-01-25T17:02:02.162674Z",
     "shell.execute_reply": "2022-01-25T17:02:02.161966Z",
     "shell.execute_reply.started": "2022-01-25T17:01:59.883758Z"
    },
    "id": "lR-Bl_ffb5sn"
   },
   "outputs": [],
   "source": [
    "#Ensemble modeling\n",
    "votingC = VotingClassifier(estimators=[('svc', SVC_best), ('rf', RF_best),('lr', LR_best), ('gbc',GBC_best), ('ada',ADA_best),('et',ETC_best),('cb',CB_best)], voting='hard', n_jobs=-1)\n",
    "votingC = votingC.fit(X_train, y_train)"
   ]
  },
  {
   "cell_type": "code",
   "execution_count": 64,
   "metadata": {
    "execution": {
     "iopub.execute_input": "2022-01-25T17:02:03.576829Z",
     "iopub.status.busy": "2022-01-25T17:02:03.576482Z",
     "iopub.status.idle": "2022-01-25T17:02:03.704823Z",
     "shell.execute_reply": "2022-01-25T17:02:03.703824Z",
     "shell.execute_reply.started": "2022-01-25T17:02:03.576797Z"
    },
    "id": "gaQM9Zyfb5sn",
    "outputId": "a0cf353b-a234-4c55-bd11-398d8a5a5311"
   },
   "outputs": [
    {
     "name": "stdout",
     "output_type": "stream",
     "text": [
      "0.85993\n"
     ]
    }
   ],
   "source": [
    "#Preditcion\n",
    "prediction=votingC.predict(X_test)\n",
    "result=balanced_accuracy_score(prediction,y_test)\n",
    "print(round(result,5))"
   ]
  },
  {
   "cell_type": "code",
   "execution_count": 65,
   "metadata": {
    "id": "L0vxuL3zb5sn",
    "outputId": "50f77d45-8161-4e7d-fe0c-8232154cd0c5"
   },
   "outputs": [
    {
     "name": "stdout",
     "output_type": "stream",
     "text": [
      "              precision    recall  f1-score   support\n",
      "\n",
      "           0       0.88      0.91      0.89       109\n",
      "           1       0.84      0.79      0.82        68\n",
      "\n",
      "    accuracy                           0.86       177\n",
      "   macro avg       0.86      0.85      0.86       177\n",
      "weighted avg       0.86      0.86      0.86       177\n",
      "\n"
     ]
    }
   ],
   "source": [
    "print(classification_report(y_test,prediction))"
   ]
  }
 ],
 "metadata": {
  "colab": {
   "name": "Titanic-Ensemblemodel.ipynb",
   "provenance": []
  },
  "kernelspec": {
   "display_name": "Python 3",
   "language": "python",
   "name": "python3"
  },
  "language_info": {
   "codemirror_mode": {
    "name": "ipython",
    "version": 3
   },
   "file_extension": ".py",
   "mimetype": "text/x-python",
   "name": "python",
   "nbconvert_exporter": "python",
   "pygments_lexer": "ipython3",
   "version": "3.8.5"
  }
 },
 "nbformat": 4,
 "nbformat_minor": 1
}
